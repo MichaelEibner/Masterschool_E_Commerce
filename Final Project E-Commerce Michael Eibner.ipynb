{
 "cells": [
  {
   "cell_type": "markdown",
   "id": "08f1440a",
   "metadata": {},
   "source": [
    "# E-Commerce: Product Range Analysis\n",
    "\n",
    "## by Michael Eibner\n",
    "\n",
    "## Project Explanation\n",
    "\n",
    "The E-Commerce dataset is from a store in the USA. It contains:\n",
    "* `InvoiceNo`: The invoice number of the purchase\n",
    "* `StockCode`: The stock code of the product\n",
    "* `Description`: The name and Description of the product\n",
    "* `Quantity`: The amount of products sold per purchase\n",
    "* `InvoiceDate`: The date of the purchase\n",
    "* `UnitPrice`: The price of the product\n",
    "* `CustomerID`: The ID of the single customer. If the customer is not registrated, its value is `nan`\n",
    "\n",
    "By analysing the dataset, we will find out how we can decrease costs, increase revenue and profit.\n",
    "\n",
    "\n",
    "## The goal of the Project\n",
    "\n",
    "Analyze, identify, categorize, and sort the product range of the store. Find connections and patterns of buying habits of customers. Optimize the product range and make warehousing more efficient to increase the profit."
   ]
  },
  {
   "cell_type": "markdown",
   "id": "4b08dfd5",
   "metadata": {},
   "source": [
    "# Part 1 Data Preprocessing"
   ]
  },
  {
   "cell_type": "markdown",
   "id": "f0880a2a",
   "metadata": {},
   "source": [
    "## Import Libraries"
   ]
  },
  {
   "cell_type": "code",
   "execution_count": 527,
   "id": "0019fe78",
   "metadata": {},
   "outputs": [],
   "source": [
    "import pandas as pd\n",
    "import numpy as np\n",
    "import matplotlib.pyplot as plt\n",
    "import seaborn as sns\n",
    "from IPython.core.display import HTML"
   ]
  },
  {
   "cell_type": "markdown",
   "id": "835ff7a1",
   "metadata": {},
   "source": [
    "## Set all Visualisations in the Center\n",
    "[Source Link](https://moonbooks.org/Articles/How-to-center-a-matplotlib-figure-in-a-Jupyter-notebook-/)"
   ]
  },
  {
   "cell_type": "code",
   "execution_count": 528,
   "id": "f7c4cb17",
   "metadata": {},
   "outputs": [
    {
     "data": {
      "text/html": [
       "\n",
       "<style>\n",
       ".output_png {\n",
       "    display: table-cell;\n",
       "    text-align: center;\n",
       "    vertical-align: middle;\n",
       "}\n",
       "</style>\n"
      ],
      "text/plain": [
       "<IPython.core.display.HTML object>"
      ]
     },
     "execution_count": 528,
     "metadata": {},
     "output_type": "execute_result"
    }
   ],
   "source": [
    "HTML(\"\"\"\n",
    "<style>\n",
    ".output_png {\n",
    "    display: table-cell;\n",
    "    text-align: center;\n",
    "    vertical-align: middle;\n",
    "}\n",
    "</style>\n",
    "\"\"\")"
   ]
  },
  {
   "cell_type": "markdown",
   "id": "68285f97",
   "metadata": {},
   "source": [
    "## Load the Dataset"
   ]
  },
  {
   "cell_type": "code",
   "execution_count": 529,
   "id": "24595a14",
   "metadata": {},
   "outputs": [],
   "source": [
    "# create the dataframe df\n",
    "df = pd.read_csv('ecommerce_dataset_us.csv', sep='\\t')"
   ]
  },
  {
   "cell_type": "markdown",
   "id": "86dcffbc",
   "metadata": {},
   "source": [
    "## Data Overview\n",
    "\n",
    "### First Overview\n",
    "\n",
    "* Using functions .info(), .head(), and .describe()"
   ]
  },
  {
   "cell_type": "code",
   "execution_count": 530,
   "id": "2fdaa655",
   "metadata": {},
   "outputs": [
    {
     "name": "stdout",
     "output_type": "stream",
     "text": [
      "<class 'pandas.core.frame.DataFrame'>\n",
      "RangeIndex: 541909 entries, 0 to 541908\n",
      "Data columns (total 7 columns):\n",
      " #   Column       Non-Null Count   Dtype  \n",
      "---  ------       --------------   -----  \n",
      " 0   InvoiceNo    541909 non-null  object \n",
      " 1   StockCode    541909 non-null  object \n",
      " 2   Description  540455 non-null  object \n",
      " 3   Quantity     541909 non-null  int64  \n",
      " 4   InvoiceDate  541909 non-null  object \n",
      " 5   UnitPrice    541909 non-null  float64\n",
      " 6   CustomerID   406829 non-null  float64\n",
      "dtypes: float64(2), int64(1), object(4)\n",
      "memory usage: 28.9+ MB\n"
     ]
    }
   ],
   "source": [
    "df.info()"
   ]
  },
  {
   "cell_type": "code",
   "execution_count": 531,
   "id": "aa8f4c2f",
   "metadata": {},
   "outputs": [
    {
     "data": {
      "text/html": [
       "<div>\n",
       "<style scoped>\n",
       "    .dataframe tbody tr th:only-of-type {\n",
       "        vertical-align: middle;\n",
       "    }\n",
       "\n",
       "    .dataframe tbody tr th {\n",
       "        vertical-align: top;\n",
       "    }\n",
       "\n",
       "    .dataframe thead th {\n",
       "        text-align: right;\n",
       "    }\n",
       "</style>\n",
       "<table border=\"1\" class=\"dataframe\">\n",
       "  <thead>\n",
       "    <tr style=\"text-align: right;\">\n",
       "      <th></th>\n",
       "      <th>InvoiceNo</th>\n",
       "      <th>StockCode</th>\n",
       "      <th>Description</th>\n",
       "      <th>Quantity</th>\n",
       "      <th>InvoiceDate</th>\n",
       "      <th>UnitPrice</th>\n",
       "      <th>CustomerID</th>\n",
       "    </tr>\n",
       "  </thead>\n",
       "  <tbody>\n",
       "    <tr>\n",
       "      <th>0</th>\n",
       "      <td>536365</td>\n",
       "      <td>85123A</td>\n",
       "      <td>WHITE HANGING HEART T-LIGHT HOLDER</td>\n",
       "      <td>6</td>\n",
       "      <td>11/29/2018 08:26</td>\n",
       "      <td>2.55</td>\n",
       "      <td>17850.0</td>\n",
       "    </tr>\n",
       "    <tr>\n",
       "      <th>1</th>\n",
       "      <td>536365</td>\n",
       "      <td>71053</td>\n",
       "      <td>WHITE METAL LANTERN</td>\n",
       "      <td>6</td>\n",
       "      <td>11/29/2018 08:26</td>\n",
       "      <td>3.39</td>\n",
       "      <td>17850.0</td>\n",
       "    </tr>\n",
       "    <tr>\n",
       "      <th>2</th>\n",
       "      <td>536365</td>\n",
       "      <td>84406B</td>\n",
       "      <td>CREAM CUPID HEARTS COAT HANGER</td>\n",
       "      <td>8</td>\n",
       "      <td>11/29/2018 08:26</td>\n",
       "      <td>2.75</td>\n",
       "      <td>17850.0</td>\n",
       "    </tr>\n",
       "    <tr>\n",
       "      <th>3</th>\n",
       "      <td>536365</td>\n",
       "      <td>84029G</td>\n",
       "      <td>KNITTED UNION FLAG HOT WATER BOTTLE</td>\n",
       "      <td>6</td>\n",
       "      <td>11/29/2018 08:26</td>\n",
       "      <td>3.39</td>\n",
       "      <td>17850.0</td>\n",
       "    </tr>\n",
       "    <tr>\n",
       "      <th>4</th>\n",
       "      <td>536365</td>\n",
       "      <td>84029E</td>\n",
       "      <td>RED WOOLLY HOTTIE WHITE HEART.</td>\n",
       "      <td>6</td>\n",
       "      <td>11/29/2018 08:26</td>\n",
       "      <td>3.39</td>\n",
       "      <td>17850.0</td>\n",
       "    </tr>\n",
       "  </tbody>\n",
       "</table>\n",
       "</div>"
      ],
      "text/plain": [
       "  InvoiceNo StockCode                          Description  Quantity  \\\n",
       "0    536365    85123A   WHITE HANGING HEART T-LIGHT HOLDER         6   \n",
       "1    536365     71053                  WHITE METAL LANTERN         6   \n",
       "2    536365    84406B       CREAM CUPID HEARTS COAT HANGER         8   \n",
       "3    536365    84029G  KNITTED UNION FLAG HOT WATER BOTTLE         6   \n",
       "4    536365    84029E       RED WOOLLY HOTTIE WHITE HEART.         6   \n",
       "\n",
       "        InvoiceDate  UnitPrice  CustomerID  \n",
       "0  11/29/2018 08:26       2.55     17850.0  \n",
       "1  11/29/2018 08:26       3.39     17850.0  \n",
       "2  11/29/2018 08:26       2.75     17850.0  \n",
       "3  11/29/2018 08:26       3.39     17850.0  \n",
       "4  11/29/2018 08:26       3.39     17850.0  "
      ]
     },
     "execution_count": 531,
     "metadata": {},
     "output_type": "execute_result"
    }
   ],
   "source": [
    "df.head()"
   ]
  },
  {
   "cell_type": "code",
   "execution_count": 532,
   "id": "5ad5383b",
   "metadata": {},
   "outputs": [
    {
     "data": {
      "text/html": [
       "<div>\n",
       "<style scoped>\n",
       "    .dataframe tbody tr th:only-of-type {\n",
       "        vertical-align: middle;\n",
       "    }\n",
       "\n",
       "    .dataframe tbody tr th {\n",
       "        vertical-align: top;\n",
       "    }\n",
       "\n",
       "    .dataframe thead th {\n",
       "        text-align: right;\n",
       "    }\n",
       "</style>\n",
       "<table border=\"1\" class=\"dataframe\">\n",
       "  <thead>\n",
       "    <tr style=\"text-align: right;\">\n",
       "      <th></th>\n",
       "      <th>Quantity</th>\n",
       "      <th>UnitPrice</th>\n",
       "      <th>CustomerID</th>\n",
       "    </tr>\n",
       "  </thead>\n",
       "  <tbody>\n",
       "    <tr>\n",
       "      <th>count</th>\n",
       "      <td>541909.000000</td>\n",
       "      <td>541909.000000</td>\n",
       "      <td>406829.000000</td>\n",
       "    </tr>\n",
       "    <tr>\n",
       "      <th>mean</th>\n",
       "      <td>9.552250</td>\n",
       "      <td>4.611114</td>\n",
       "      <td>15287.690570</td>\n",
       "    </tr>\n",
       "    <tr>\n",
       "      <th>std</th>\n",
       "      <td>218.081158</td>\n",
       "      <td>96.759853</td>\n",
       "      <td>1713.600303</td>\n",
       "    </tr>\n",
       "    <tr>\n",
       "      <th>min</th>\n",
       "      <td>-80995.000000</td>\n",
       "      <td>-11062.060000</td>\n",
       "      <td>12346.000000</td>\n",
       "    </tr>\n",
       "    <tr>\n",
       "      <th>25%</th>\n",
       "      <td>1.000000</td>\n",
       "      <td>1.250000</td>\n",
       "      <td>13953.000000</td>\n",
       "    </tr>\n",
       "    <tr>\n",
       "      <th>50%</th>\n",
       "      <td>3.000000</td>\n",
       "      <td>2.080000</td>\n",
       "      <td>15152.000000</td>\n",
       "    </tr>\n",
       "    <tr>\n",
       "      <th>75%</th>\n",
       "      <td>10.000000</td>\n",
       "      <td>4.130000</td>\n",
       "      <td>16791.000000</td>\n",
       "    </tr>\n",
       "    <tr>\n",
       "      <th>max</th>\n",
       "      <td>80995.000000</td>\n",
       "      <td>38970.000000</td>\n",
       "      <td>18287.000000</td>\n",
       "    </tr>\n",
       "  </tbody>\n",
       "</table>\n",
       "</div>"
      ],
      "text/plain": [
       "            Quantity      UnitPrice     CustomerID\n",
       "count  541909.000000  541909.000000  406829.000000\n",
       "mean        9.552250       4.611114   15287.690570\n",
       "std       218.081158      96.759853    1713.600303\n",
       "min    -80995.000000  -11062.060000   12346.000000\n",
       "25%         1.000000       1.250000   13953.000000\n",
       "50%         3.000000       2.080000   15152.000000\n",
       "75%        10.000000       4.130000   16791.000000\n",
       "max     80995.000000   38970.000000   18287.000000"
      ]
     },
     "execution_count": 532,
     "metadata": {},
     "output_type": "execute_result"
    }
   ],
   "source": [
    "df.describe()"
   ]
  },
  {
   "cell_type": "markdown",
   "id": "772d1de2",
   "metadata": {},
   "source": [
    "### Overview over the Columns"
   ]
  },
  {
   "cell_type": "code",
   "execution_count": 533,
   "id": "a9cae519",
   "metadata": {},
   "outputs": [
    {
     "name": "stdout",
     "output_type": "stream",
     "text": [
      "InvoiceNo contains 25900 unique values\n",
      "StockCode contains 4070 unique values\n",
      "Description contains 4223 unique values\n",
      "Quantity contains 722 unique values\n",
      "InvoiceDate contains 23260 unique values\n",
      "UnitPrice contains 1630 unique values\n",
      "CustomerID contains 4372 unique values\n"
     ]
    }
   ],
   "source": [
    "for i in df.columns:\n",
    "    print(f'{i} contains {df[i].nunique()} unique values')"
   ]
  },
  {
   "cell_type": "code",
   "execution_count": 534,
   "id": "e5a91d6f",
   "metadata": {},
   "outputs": [
    {
     "name": "stdout",
     "output_type": "stream",
     "text": [
      "The first InvoiceDate is: 01/02/2019 10:00\n",
      "The last InvoiceDate is: 12/21/2018 17:41\n"
     ]
    }
   ],
   "source": [
    "print(f'The first InvoiceDate is: {df.InvoiceDate.min()}\\nThe last InvoiceDate is: {df.InvoiceDate.max()}')"
   ]
  },
  {
   "cell_type": "markdown",
   "id": "12bd7d6e",
   "metadata": {},
   "source": [
    "We have to set the InvoiceDate column to a datetime format to see the first and the last purchase"
   ]
  },
  {
   "cell_type": "code",
   "execution_count": 535,
   "id": "311d75f2",
   "metadata": {},
   "outputs": [
    {
     "name": "stdout",
     "output_type": "stream",
     "text": [
      "Words not in Upper (sample of 10):\n"
     ]
    },
    {
     "data": {
      "text/plain": [
       "422811                 damaged\n",
       "314575                  amazon\n",
       "50849     mouldy, thrown away.\n",
       "428659                   check\n",
       "362365                 damages\n",
       "Name: Description, dtype: object"
      ]
     },
     "execution_count": 535,
     "metadata": {},
     "output_type": "execute_result"
    }
   ],
   "source": [
    "# description contains some words that are not uppercase\n",
    "df_lower = df[pd.notnull(df['Description'])]\n",
    "df_lower = df_lower[df_lower['Description'].str.islower()]\n",
    "print('Words not in Upper (sample of 10):')\n",
    "df_lower['Description'].sample(5)"
   ]
  },
  {
   "cell_type": "code",
   "execution_count": 536,
   "id": "ad33e356",
   "metadata": {},
   "outputs": [
    {
     "name": "stdout",
     "output_type": "stream",
     "text": [
      "Count of lowercase words:\n"
     ]
    },
    {
     "data": {
      "text/plain": [
       "493"
      ]
     },
     "execution_count": 536,
     "metadata": {},
     "output_type": "execute_result"
    }
   ],
   "source": [
    "print('Count of lowercase words:')\n",
    "len(df_lower)"
   ]
  },
  {
   "cell_type": "code",
   "execution_count": 537,
   "id": "272ea4f5",
   "metadata": {},
   "outputs": [
    {
     "name": "stdout",
     "output_type": "stream",
     "text": [
      "Count of negative Quantity:\n"
     ]
    },
    {
     "data": {
      "text/plain": [
       "10624"
      ]
     },
     "execution_count": 537,
     "metadata": {},
     "output_type": "execute_result"
    }
   ],
   "source": [
    "# some quantity are negative\n",
    "df_quan_neg = df[df['Quantity']<0]\n",
    "print('Count of negative Quantity:')\n",
    "len(df_quan_neg)"
   ]
  },
  {
   "cell_type": "code",
   "execution_count": 538,
   "id": "3d457614",
   "metadata": {},
   "outputs": [
    {
     "name": "stdout",
     "output_type": "stream",
     "text": [
      "Priceless Producs:\n"
     ]
    },
    {
     "data": {
      "text/html": [
       "<div>\n",
       "<style scoped>\n",
       "    .dataframe tbody tr th:only-of-type {\n",
       "        vertical-align: middle;\n",
       "    }\n",
       "\n",
       "    .dataframe tbody tr th {\n",
       "        vertical-align: top;\n",
       "    }\n",
       "\n",
       "    .dataframe thead th {\n",
       "        text-align: right;\n",
       "    }\n",
       "</style>\n",
       "<table border=\"1\" class=\"dataframe\">\n",
       "  <thead>\n",
       "    <tr style=\"text-align: right;\">\n",
       "      <th></th>\n",
       "      <th>InvoiceNo</th>\n",
       "      <th>StockCode</th>\n",
       "      <th>Description</th>\n",
       "      <th>Quantity</th>\n",
       "      <th>InvoiceDate</th>\n",
       "      <th>UnitPrice</th>\n",
       "      <th>CustomerID</th>\n",
       "    </tr>\n",
       "  </thead>\n",
       "  <tbody>\n",
       "    <tr>\n",
       "      <th>7205</th>\n",
       "      <td>537013</td>\n",
       "      <td>35965</td>\n",
       "      <td>NaN</td>\n",
       "      <td>-25</td>\n",
       "      <td>12/01/2018 15:40</td>\n",
       "      <td>0.0</td>\n",
       "      <td>NaN</td>\n",
       "    </tr>\n",
       "    <tr>\n",
       "      <th>13959</th>\n",
       "      <td>537436</td>\n",
       "      <td>84270</td>\n",
       "      <td>NaN</td>\n",
       "      <td>7</td>\n",
       "      <td>12/04/2018 17:00</td>\n",
       "      <td>0.0</td>\n",
       "      <td>NaN</td>\n",
       "    </tr>\n",
       "    <tr>\n",
       "      <th>124012</th>\n",
       "      <td>546933</td>\n",
       "      <td>22623</td>\n",
       "      <td>BOX OF VINTAGE JIGSAW BLOCKS</td>\n",
       "      <td>1</td>\n",
       "      <td>03/16/2019 11:02</td>\n",
       "      <td>0.0</td>\n",
       "      <td>NaN</td>\n",
       "    </tr>\n",
       "    <tr>\n",
       "      <th>150623</th>\n",
       "      <td>549497</td>\n",
       "      <td>21527</td>\n",
       "      <td>NaN</td>\n",
       "      <td>3</td>\n",
       "      <td>04/06/2019 15:06</td>\n",
       "      <td>0.0</td>\n",
       "      <td>NaN</td>\n",
       "    </tr>\n",
       "    <tr>\n",
       "      <th>193566</th>\n",
       "      <td>553539</td>\n",
       "      <td>22677</td>\n",
       "      <td>FRENCH BLUE METAL DOOR SIGN 2</td>\n",
       "      <td>2</td>\n",
       "      <td>05/15/2019 15:27</td>\n",
       "      <td>0.0</td>\n",
       "      <td>NaN</td>\n",
       "    </tr>\n",
       "  </tbody>\n",
       "</table>\n",
       "</div>"
      ],
      "text/plain": [
       "       InvoiceNo StockCode                    Description  Quantity  \\\n",
       "7205      537013     35965                            NaN       -25   \n",
       "13959     537436     84270                            NaN         7   \n",
       "124012    546933     22623  BOX OF VINTAGE JIGSAW BLOCKS          1   \n",
       "150623    549497     21527                            NaN         3   \n",
       "193566    553539     22677  FRENCH BLUE METAL DOOR SIGN 2         2   \n",
       "\n",
       "             InvoiceDate  UnitPrice  CustomerID  \n",
       "7205    12/01/2018 15:40        0.0         NaN  \n",
       "13959   12/04/2018 17:00        0.0         NaN  \n",
       "124012  03/16/2019 11:02        0.0         NaN  \n",
       "150623  04/06/2019 15:06        0.0         NaN  \n",
       "193566  05/15/2019 15:27        0.0         NaN  "
      ]
     },
     "execution_count": 538,
     "metadata": {},
     "output_type": "execute_result"
    }
   ],
   "source": [
    "# UnitPrice is 0\n",
    "print('Priceless Producs:')\n",
    "df[df['UnitPrice']==0].sample(5)"
   ]
  },
  {
   "cell_type": "code",
   "execution_count": 539,
   "id": "e85df509",
   "metadata": {},
   "outputs": [
    {
     "name": "stdout",
     "output_type": "stream",
     "text": [
      "Count of priceless Products:\n"
     ]
    },
    {
     "data": {
      "text/plain": [
       "2515"
      ]
     },
     "execution_count": 539,
     "metadata": {},
     "output_type": "execute_result"
    }
   ],
   "source": [
    "print('Count of priceless Products:')\n",
    "len(df[df['UnitPrice']==0])"
   ]
  },
  {
   "cell_type": "code",
   "execution_count": 540,
   "id": "ebb18beb",
   "metadata": {},
   "outputs": [
    {
     "name": "stdout",
     "output_type": "stream",
     "text": [
      "Count of negative UnitPrice:\n"
     ]
    },
    {
     "data": {
      "text/plain": [
       "2"
      ]
     },
     "execution_count": 540,
     "metadata": {},
     "output_type": "execute_result"
    }
   ],
   "source": [
    "# some UnitPrice are negative\n",
    "df_unit_neg = df[df['UnitPrice']<0]\n",
    "print('Count of negative UnitPrice:')\n",
    "len(df_unit_neg)"
   ]
  },
  {
   "cell_type": "code",
   "execution_count": 541,
   "id": "d46dc871",
   "metadata": {},
   "outputs": [
    {
     "name": "stdout",
     "output_type": "stream",
     "text": [
      "Count of Rows with alphabetic letters in InvoiceNo:\n"
     ]
    },
    {
     "data": {
      "text/plain": [
       "9291"
      ]
     },
     "execution_count": 541,
     "metadata": {},
     "output_type": "execute_result"
    }
   ],
   "source": [
    "# some InvoiceNo contains uppercase letters, \n",
    "df_inv_alpha = df[df['InvoiceNo'].str.contains(r'[A-Z]')]\n",
    "print('Count of Rows with alphabetic letters in InvoiceNo:')\n",
    "len(df_inv_alpha)"
   ]
  },
  {
   "cell_type": "code",
   "execution_count": 542,
   "id": "a53e9e43",
   "metadata": {},
   "outputs": [
    {
     "name": "stdout",
     "output_type": "stream",
     "text": [
      "Rows with alphabetic letters in InvoiceNo:\n"
     ]
    },
    {
     "data": {
      "text/html": [
       "<div>\n",
       "<style scoped>\n",
       "    .dataframe tbody tr th:only-of-type {\n",
       "        vertical-align: middle;\n",
       "    }\n",
       "\n",
       "    .dataframe tbody tr th {\n",
       "        vertical-align: top;\n",
       "    }\n",
       "\n",
       "    .dataframe thead th {\n",
       "        text-align: right;\n",
       "    }\n",
       "</style>\n",
       "<table border=\"1\" class=\"dataframe\">\n",
       "  <thead>\n",
       "    <tr style=\"text-align: right;\">\n",
       "      <th></th>\n",
       "      <th>InvoiceNo</th>\n",
       "      <th>StockCode</th>\n",
       "      <th>Description</th>\n",
       "      <th>Quantity</th>\n",
       "      <th>InvoiceDate</th>\n",
       "      <th>UnitPrice</th>\n",
       "      <th>CustomerID</th>\n",
       "    </tr>\n",
       "  </thead>\n",
       "  <tbody>\n",
       "    <tr>\n",
       "      <th>1974</th>\n",
       "      <td>C536548</td>\n",
       "      <td>22242</td>\n",
       "      <td>5 HOOK HANGER MAGIC TOADSTOOL</td>\n",
       "      <td>-5</td>\n",
       "      <td>11/29/2018 14:33</td>\n",
       "      <td>1.65</td>\n",
       "      <td>12472.0</td>\n",
       "    </tr>\n",
       "    <tr>\n",
       "      <th>132296</th>\n",
       "      <td>C547661</td>\n",
       "      <td>21874</td>\n",
       "      <td>GIN AND TONIC MUG</td>\n",
       "      <td>-1</td>\n",
       "      <td>03/22/2019 13:09</td>\n",
       "      <td>1.25</td>\n",
       "      <td>13736.0</td>\n",
       "    </tr>\n",
       "    <tr>\n",
       "      <th>39756</th>\n",
       "      <td>C539667</td>\n",
       "      <td>21284</td>\n",
       "      <td>RETROSPOT CANDLE  SMALL</td>\n",
       "      <td>-24</td>\n",
       "      <td>12/19/2018 10:47</td>\n",
       "      <td>0.42</td>\n",
       "      <td>13148.0</td>\n",
       "    </tr>\n",
       "    <tr>\n",
       "      <th>156234</th>\n",
       "      <td>C550127</td>\n",
       "      <td>37449</td>\n",
       "      <td>CERAMIC CAKE STAND + HANGING CAKES</td>\n",
       "      <td>-1</td>\n",
       "      <td>04/12/2019 13:12</td>\n",
       "      <td>9.95</td>\n",
       "      <td>15212.0</td>\n",
       "    </tr>\n",
       "    <tr>\n",
       "      <th>516370</th>\n",
       "      <td>C579886</td>\n",
       "      <td>22578</td>\n",
       "      <td>WOODEN STAR CHRISTMAS SCANDINAVIAN</td>\n",
       "      <td>-1</td>\n",
       "      <td>11/28/2019 17:39</td>\n",
       "      <td>0.29</td>\n",
       "      <td>15676.0</td>\n",
       "    </tr>\n",
       "  </tbody>\n",
       "</table>\n",
       "</div>"
      ],
      "text/plain": [
       "       InvoiceNo StockCode                         Description  Quantity  \\\n",
       "1974     C536548     22242       5 HOOK HANGER MAGIC TOADSTOOL        -5   \n",
       "132296   C547661     21874                   GIN AND TONIC MUG        -1   \n",
       "39756    C539667     21284             RETROSPOT CANDLE  SMALL       -24   \n",
       "156234   C550127     37449  CERAMIC CAKE STAND + HANGING CAKES        -1   \n",
       "516370   C579886     22578  WOODEN STAR CHRISTMAS SCANDINAVIAN        -1   \n",
       "\n",
       "             InvoiceDate  UnitPrice  CustomerID  \n",
       "1974    11/29/2018 14:33       1.65     12472.0  \n",
       "132296  03/22/2019 13:09       1.25     13736.0  \n",
       "39756   12/19/2018 10:47       0.42     13148.0  \n",
       "156234  04/12/2019 13:12       9.95     15212.0  \n",
       "516370  11/28/2019 17:39       0.29     15676.0  "
      ]
     },
     "execution_count": 542,
     "metadata": {},
     "output_type": "execute_result"
    }
   ],
   "source": [
    "print('Rows with alphabetic letters in InvoiceNo:')\n",
    "df_inv_alpha.sample(5)"
   ]
  },
  {
   "cell_type": "code",
   "execution_count": 543,
   "id": "94442c29",
   "metadata": {},
   "outputs": [
    {
     "name": "stdout",
     "output_type": "stream",
     "text": [
      "Not C:\n"
     ]
    },
    {
     "data": {
      "text/html": [
       "<div>\n",
       "<style scoped>\n",
       "    .dataframe tbody tr th:only-of-type {\n",
       "        vertical-align: middle;\n",
       "    }\n",
       "\n",
       "    .dataframe tbody tr th {\n",
       "        vertical-align: top;\n",
       "    }\n",
       "\n",
       "    .dataframe thead th {\n",
       "        text-align: right;\n",
       "    }\n",
       "</style>\n",
       "<table border=\"1\" class=\"dataframe\">\n",
       "  <thead>\n",
       "    <tr style=\"text-align: right;\">\n",
       "      <th></th>\n",
       "      <th>InvoiceNo</th>\n",
       "      <th>StockCode</th>\n",
       "      <th>Description</th>\n",
       "      <th>Quantity</th>\n",
       "      <th>InvoiceDate</th>\n",
       "      <th>UnitPrice</th>\n",
       "      <th>CustomerID</th>\n",
       "    </tr>\n",
       "  </thead>\n",
       "  <tbody>\n",
       "    <tr>\n",
       "      <th>299982</th>\n",
       "      <td>A563185</td>\n",
       "      <td>B</td>\n",
       "      <td>Adjust bad debt</td>\n",
       "      <td>1</td>\n",
       "      <td>08/10/2019 14:50</td>\n",
       "      <td>11062.06</td>\n",
       "      <td>NaN</td>\n",
       "    </tr>\n",
       "    <tr>\n",
       "      <th>299983</th>\n",
       "      <td>A563186</td>\n",
       "      <td>B</td>\n",
       "      <td>Adjust bad debt</td>\n",
       "      <td>1</td>\n",
       "      <td>08/10/2019 14:51</td>\n",
       "      <td>-11062.06</td>\n",
       "      <td>NaN</td>\n",
       "    </tr>\n",
       "    <tr>\n",
       "      <th>299984</th>\n",
       "      <td>A563187</td>\n",
       "      <td>B</td>\n",
       "      <td>Adjust bad debt</td>\n",
       "      <td>1</td>\n",
       "      <td>08/10/2019 14:52</td>\n",
       "      <td>-11062.06</td>\n",
       "      <td>NaN</td>\n",
       "    </tr>\n",
       "  </tbody>\n",
       "</table>\n",
       "</div>"
      ],
      "text/plain": [
       "       InvoiceNo StockCode      Description  Quantity       InvoiceDate  \\\n",
       "299982   A563185         B  Adjust bad debt         1  08/10/2019 14:50   \n",
       "299983   A563186         B  Adjust bad debt         1  08/10/2019 14:51   \n",
       "299984   A563187         B  Adjust bad debt         1  08/10/2019 14:52   \n",
       "\n",
       "        UnitPrice  CustomerID  \n",
       "299982   11062.06         NaN  \n",
       "299983  -11062.06         NaN  \n",
       "299984  -11062.06         NaN  "
      ]
     },
     "execution_count": 543,
     "metadata": {},
     "output_type": "execute_result"
    }
   ],
   "source": [
    "# are there other letters than C in InvoiceNo?\n",
    "df_inv_not_C = df_inv_alpha[~df_inv_alpha['InvoiceNo'].str.contains('C')]\n",
    "print('Not C:')\n",
    "df_inv_not_C.head()"
   ]
  },
  {
   "cell_type": "code",
   "execution_count": 544,
   "id": "9b9b962e",
   "metadata": {},
   "outputs": [
    {
     "name": "stdout",
     "output_type": "stream",
     "text": [
      "Count of Rows with alphabetic letters in StockCode:\n"
     ]
    },
    {
     "data": {
      "text/plain": [
       "52896"
      ]
     },
     "execution_count": 544,
     "metadata": {},
     "output_type": "execute_result"
    }
   ],
   "source": [
    "# some StockCode contains uppercase letters, \n",
    "df_stock_alpha = df[df['StockCode'].str.contains(r'[A-Z]')]\n",
    "print('Count of Rows with alphabetic letters in StockCode:')\n",
    "len(df_stock_alpha)"
   ]
  },
  {
   "cell_type": "code",
   "execution_count": 545,
   "id": "bb5b5a94",
   "metadata": {},
   "outputs": [
    {
     "name": "stdout",
     "output_type": "stream",
     "text": [
      "Sample of 10 of Rows with alphabetic letters in StockCode:\n"
     ]
    },
    {
     "data": {
      "text/html": [
       "<div>\n",
       "<style scoped>\n",
       "    .dataframe tbody tr th:only-of-type {\n",
       "        vertical-align: middle;\n",
       "    }\n",
       "\n",
       "    .dataframe tbody tr th {\n",
       "        vertical-align: top;\n",
       "    }\n",
       "\n",
       "    .dataframe thead th {\n",
       "        text-align: right;\n",
       "    }\n",
       "</style>\n",
       "<table border=\"1\" class=\"dataframe\">\n",
       "  <thead>\n",
       "    <tr style=\"text-align: right;\">\n",
       "      <th></th>\n",
       "      <th>InvoiceNo</th>\n",
       "      <th>StockCode</th>\n",
       "      <th>Description</th>\n",
       "      <th>Quantity</th>\n",
       "      <th>InvoiceDate</th>\n",
       "      <th>UnitPrice</th>\n",
       "      <th>CustomerID</th>\n",
       "    </tr>\n",
       "  </thead>\n",
       "  <tbody>\n",
       "    <tr>\n",
       "      <th>371246</th>\n",
       "      <td>569216</td>\n",
       "      <td>85123A</td>\n",
       "      <td>WHITE HANGING HEART T-LIGHT HOLDER</td>\n",
       "      <td>1</td>\n",
       "      <td>09/30/2019 12:41</td>\n",
       "      <td>2.95</td>\n",
       "      <td>15555.0</td>\n",
       "    </tr>\n",
       "    <tr>\n",
       "      <th>64400</th>\n",
       "      <td>541604</td>\n",
       "      <td>85184C</td>\n",
       "      <td>S/4 VALENTINE DECOUPAGE HEART BOX</td>\n",
       "      <td>2</td>\n",
       "      <td>01/17/2019 17:23</td>\n",
       "      <td>2.95</td>\n",
       "      <td>14572.0</td>\n",
       "    </tr>\n",
       "    <tr>\n",
       "      <th>84771</th>\n",
       "      <td>543447</td>\n",
       "      <td>46775D</td>\n",
       "      <td>SUNSET COLOUR CHUNKY KNITTED THROW</td>\n",
       "      <td>2</td>\n",
       "      <td>02/06/2019 12:01</td>\n",
       "      <td>16.95</td>\n",
       "      <td>16265.0</td>\n",
       "    </tr>\n",
       "    <tr>\n",
       "      <th>210613</th>\n",
       "      <td>555284</td>\n",
       "      <td>85230E</td>\n",
       "      <td>STRAWBRY SCENTED VOTIVE CANDLE</td>\n",
       "      <td>144</td>\n",
       "      <td>05/31/2019 09:37</td>\n",
       "      <td>0.21</td>\n",
       "      <td>14298.0</td>\n",
       "    </tr>\n",
       "    <tr>\n",
       "      <th>221069</th>\n",
       "      <td>556237</td>\n",
       "      <td>85086A</td>\n",
       "      <td>CANDY SPOT HEART DECORATION</td>\n",
       "      <td>1</td>\n",
       "      <td>06/07/2019 15:34</td>\n",
       "      <td>0.83</td>\n",
       "      <td>NaN</td>\n",
       "    </tr>\n",
       "  </tbody>\n",
       "</table>\n",
       "</div>"
      ],
      "text/plain": [
       "       InvoiceNo StockCode                         Description  Quantity  \\\n",
       "371246    569216    85123A  WHITE HANGING HEART T-LIGHT HOLDER         1   \n",
       "64400     541604    85184C   S/4 VALENTINE DECOUPAGE HEART BOX         2   \n",
       "84771     543447    46775D  SUNSET COLOUR CHUNKY KNITTED THROW         2   \n",
       "210613    555284    85230E      STRAWBRY SCENTED VOTIVE CANDLE       144   \n",
       "221069    556237    85086A         CANDY SPOT HEART DECORATION         1   \n",
       "\n",
       "             InvoiceDate  UnitPrice  CustomerID  \n",
       "371246  09/30/2019 12:41       2.95     15555.0  \n",
       "64400   01/17/2019 17:23       2.95     14572.0  \n",
       "84771   02/06/2019 12:01      16.95     16265.0  \n",
       "210613  05/31/2019 09:37       0.21     14298.0  \n",
       "221069  06/07/2019 15:34       0.83         NaN  "
      ]
     },
     "execution_count": 545,
     "metadata": {},
     "output_type": "execute_result"
    }
   ],
   "source": [
    "print('Sample of 10 of Rows with alphabetic letters in StockCode:')\n",
    "df_stock_alpha.sample(5)"
   ]
  },
  {
   "cell_type": "code",
   "execution_count": 546,
   "id": "7ab86e5b",
   "metadata": {},
   "outputs": [
    {
     "name": "stdout",
     "output_type": "stream",
     "text": [
      "Count of duplicates:\n"
     ]
    },
    {
     "data": {
      "text/plain": [
       "False    536641\n",
       "True       5268\n",
       "dtype: int64"
      ]
     },
     "execution_count": 546,
     "metadata": {},
     "output_type": "execute_result"
    }
   ],
   "source": [
    "# check on duplicates\n",
    "print('Count of duplicates:')\n",
    "df.duplicated().value_counts()"
   ]
  },
  {
   "cell_type": "code",
   "execution_count": 547,
   "id": "f555ee3d",
   "metadata": {},
   "outputs": [
    {
     "name": "stdout",
     "output_type": "stream",
     "text": [
      "Analysis of a random Item:\n"
     ]
    },
    {
     "data": {
      "text/html": [
       "<div>\n",
       "<style scoped>\n",
       "    .dataframe tbody tr th:only-of-type {\n",
       "        vertical-align: middle;\n",
       "    }\n",
       "\n",
       "    .dataframe tbody tr th {\n",
       "        vertical-align: top;\n",
       "    }\n",
       "\n",
       "    .dataframe thead th {\n",
       "        text-align: right;\n",
       "    }\n",
       "</style>\n",
       "<table border=\"1\" class=\"dataframe\">\n",
       "  <thead>\n",
       "    <tr style=\"text-align: right;\">\n",
       "      <th></th>\n",
       "      <th>InvoiceNo</th>\n",
       "      <th>StockCode</th>\n",
       "      <th>Description</th>\n",
       "      <th>Quantity</th>\n",
       "      <th>InvoiceDate</th>\n",
       "      <th>UnitPrice</th>\n",
       "      <th>CustomerID</th>\n",
       "    </tr>\n",
       "  </thead>\n",
       "  <tbody>\n",
       "    <tr>\n",
       "      <th>118</th>\n",
       "      <td>536381</td>\n",
       "      <td>21166</td>\n",
       "      <td>COOK WITH WINE METAL SIGN</td>\n",
       "      <td>1</td>\n",
       "      <td>11/29/2018 09:41</td>\n",
       "      <td>1.95</td>\n",
       "      <td>15311.0</td>\n",
       "    </tr>\n",
       "    <tr>\n",
       "      <th>1301</th>\n",
       "      <td>536532</td>\n",
       "      <td>21166</td>\n",
       "      <td>COOK WITH WINE METAL SIGN</td>\n",
       "      <td>12</td>\n",
       "      <td>11/29/2018 13:24</td>\n",
       "      <td>1.95</td>\n",
       "      <td>12433.0</td>\n",
       "    </tr>\n",
       "    <tr>\n",
       "      <th>1911</th>\n",
       "      <td>536544</td>\n",
       "      <td>21166</td>\n",
       "      <td>COOK WITH WINE METAL SIGN</td>\n",
       "      <td>2</td>\n",
       "      <td>11/29/2018 14:32</td>\n",
       "      <td>4.21</td>\n",
       "      <td>NaN</td>\n",
       "    </tr>\n",
       "    <tr>\n",
       "      <th>2415</th>\n",
       "      <td>536590</td>\n",
       "      <td>21166</td>\n",
       "      <td>COOK WITH WINE METAL SIGN</td>\n",
       "      <td>12</td>\n",
       "      <td>11/29/2018 16:52</td>\n",
       "      <td>1.95</td>\n",
       "      <td>13065.0</td>\n",
       "    </tr>\n",
       "    <tr>\n",
       "      <th>4717</th>\n",
       "      <td>536798</td>\n",
       "      <td>21166</td>\n",
       "      <td>COOK WITH WINE METAL SIGN</td>\n",
       "      <td>12</td>\n",
       "      <td>11/30/2018 15:55</td>\n",
       "      <td>1.95</td>\n",
       "      <td>17838.0</td>\n",
       "    </tr>\n",
       "  </tbody>\n",
       "</table>\n",
       "</div>"
      ],
      "text/plain": [
       "     InvoiceNo StockCode                 Description  Quantity  \\\n",
       "118     536381     21166  COOK WITH WINE METAL SIGN          1   \n",
       "1301    536532     21166  COOK WITH WINE METAL SIGN         12   \n",
       "1911    536544     21166  COOK WITH WINE METAL SIGN          2   \n",
       "2415    536590     21166  COOK WITH WINE METAL SIGN         12   \n",
       "4717    536798     21166  COOK WITH WINE METAL SIGN         12   \n",
       "\n",
       "           InvoiceDate  UnitPrice  CustomerID  \n",
       "118   11/29/2018 09:41       1.95     15311.0  \n",
       "1301  11/29/2018 13:24       1.95     12433.0  \n",
       "1911  11/29/2018 14:32       4.21         NaN  \n",
       "2415  11/29/2018 16:52       1.95     13065.0  \n",
       "4717  11/30/2018 15:55       1.95     17838.0  "
      ]
     },
     "execution_count": 547,
     "metadata": {},
     "output_type": "execute_result"
    }
   ],
   "source": [
    "# analyse one random item\n",
    "rand_item = df[df['Description'] == df.sample().iloc[0]['Description']]\n",
    "print('Analysis of a random Item:')\n",
    "rand_item.head()"
   ]
  },
  {
   "cell_type": "code",
   "execution_count": 548,
   "id": "0b85f96d",
   "metadata": {},
   "outputs": [
    {
     "name": "stdout",
     "output_type": "stream",
     "text": [
      "Count of Rows with no Numbers in StockCode is: 2796\n",
      "\n"
     ]
    },
    {
     "data": {
      "text/plain": [
       "POST            1256\n",
       "DOT              710\n",
       "M                571\n",
       "D                 77\n",
       "S                 63\n",
       "BANK CHARGES      37\n",
       "AMAZONFEE         34\n",
       "CRUK              16\n",
       "DCGSSGIRL         13\n",
       "DCGSSBOY          11\n",
       "PADS               4\n",
       "B                  3\n",
       "m                  1\n",
       "Name: StockCode, dtype: int64"
      ]
     },
     "execution_count": 548,
     "metadata": {},
     "output_type": "execute_result"
    }
   ],
   "source": [
    "# StockCode that contains no numbers\n",
    "fees = df[~df['StockCode'].str.contains(r'[0-9]')]\n",
    "print(f'Count of Rows with no Numbers in StockCode is: {len(fees)}\\n')\n",
    "fees.StockCode.value_counts()"
   ]
  },
  {
   "cell_type": "markdown",
   "id": "8ab69b45",
   "metadata": {},
   "source": [
    "## Check for missing values"
   ]
  },
  {
   "cell_type": "code",
   "execution_count": 549,
   "id": "f311899e",
   "metadata": {},
   "outputs": [
    {
     "data": {
      "text/plain": [
       "InvoiceNo           0\n",
       "StockCode           0\n",
       "Description      1454\n",
       "Quantity            0\n",
       "InvoiceDate         0\n",
       "UnitPrice           0\n",
       "CustomerID     135080\n",
       "dtype: int64"
      ]
     },
     "execution_count": 549,
     "metadata": {},
     "output_type": "execute_result"
    }
   ],
   "source": [
    "df.isna().sum()"
   ]
  },
  {
   "cell_type": "markdown",
   "id": "d4259a5e",
   "metadata": {},
   "source": [
    "## Explanation of the columns\n",
    "\n",
    "* **InvoiceNo:**\n",
    "\n",
    "**Kind of ID number of an Invoice / a single Purchase**\n",
    "\n",
    "* **InvoiceDate:**\n",
    "\n",
    "**The Purchase Date**\n",
    "\n",
    "\n",
    "* **CustomerID:**\n",
    "\n",
    "**The ID of the single Customer - some Customers aren't registered, their ID is 'nan'**\n",
    "\n",
    "* **StockCode:**\n",
    "\n",
    "**The Code of a single Product**\n",
    "\n",
    "* **Description:**\n",
    "\n",
    "**The Desription and the Name of the Product**\n",
    "\n",
    "* **UnitPrice:**\n",
    "\n",
    "**The Price of the Product**\n",
    "\n",
    "* **Quantity:**\n",
    "\n",
    "**The Number of Products purchased on a single Invoice**"
   ]
  },
  {
   "cell_type": "markdown",
   "id": "55d2ca21",
   "metadata": {},
   "source": [
    "## Assessing Data before Cleaning\n",
    "**What I found out:**\n",
    "\n",
    "* The Dataset contains 541909 Rows and 7 Columns\n",
    "* Quantity and UnitPrice are the only numeric Columns\n",
    "* InvoiceNo & StockCode contains numbers and letters\n",
    "* Unique Values:\n",
    "    * InvoiceNo contains 25900 unique values\n",
    "    * StockCode contains 4070 unique values\n",
    "    * Description contains 4223 unique values\n",
    "    * Quantity contains 722 unique values\n",
    "    * InvoiceDate contains 23260 unique values\n",
    "    * UnitPrice contains 1630 unique values\n",
    "    * CustomerID contains 4373 unique values\n",
    "* The Dataset contains Data from end of November 2018 till mid of December 2019\n",
    "* Description contains not only Products\n",
    "* There're Rows with:\n",
    "    * negative Quantity\n",
    "    * no Price\n",
    "    * negative Price\n",
    "    * Duplicates\n",
    "* Description contains missing values\n",
    "* CustomerID contains missing values but they are 'nan'\n",
    "* Cancellations should be deleted"
   ]
  },
  {
   "cell_type": "markdown",
   "id": "b2cf48ea",
   "metadata": {},
   "source": [
    "## Clean Data"
   ]
  },
  {
   "cell_type": "code",
   "execution_count": 550,
   "id": "afea2bce",
   "metadata": {},
   "outputs": [
    {
     "name": "stdout",
     "output_type": "stream",
     "text": [
      "38092 Rows were deleted, 7.03% of the Dataset\n"
     ]
    }
   ],
   "source": [
    "# make a copy of the dataset\n",
    "df_clean = df.copy()\n",
    "\n",
    "# change column types to work with them later\n",
    "df['InvoiceDate'] = pd.to_datetime(df['InvoiceDate'])\n",
    "df['CustomerID'] = df['CustomerID'].astype('str')\n",
    "\n",
    "# drop unecessary rows\n",
    "'''\n",
    "the next code drops the cancelled purchases and their orders. This code is from Dorothy Kunth, fellow Masterschool student, she posted it on Slack.\n",
    "'''\n",
    "df_pairs = df_clean.groupby([df_clean.CustomerID, df_clean.StockCode, df_clean.Quantity.abs()]).filter(lambda x: (len(x.Quantity.abs()) % 2 == 0) and (x.Quantity.sum() == 0))\n",
    "df_clean = df_clean.drop(df_pairs.index)\n",
    "\n",
    "# drop missing values in Description\n",
    "df_clean = df_clean.dropna(thresh=len(df_clean.columns))\n",
    "# drop duplicates\n",
    "df_clean = df.drop_duplicates()\n",
    "# drop fees\n",
    "df_clean = df_clean[df_clean['StockCode'].str.contains(r'[0-9]')]\n",
    "# drop negative prices and priceless rows\n",
    "df_clean = df_clean[df_clean['UnitPrice']>0]\n",
    "# drop negative Quantity\n",
    "df_clean = df_clean[df_clean['Quantity']>0]\n",
    "# drop Rows with no Product Name\n",
    "df_clean = df_clean[df_clean['Description'].str.contains(r'[A-Z]')]\n",
    "# to compare the dataset for one whole year, we delete the rows before 07. december 2018\n",
    "df_clean = df_clean[df_clean['InvoiceDate']>='2018-12-07']\n",
    "\n",
    "# find out how many rows are deleted\n",
    "diff = len(df) - len(df_clean)\n",
    "diff_pct = (diff/len(df))*100\n",
    "print(f'{diff} Rows were deleted, {round(diff_pct, 2)}% of the Dataset')"
   ]
  },
  {
   "cell_type": "markdown",
   "id": "3b9d5761",
   "metadata": {},
   "source": [
    "# Part 2 First Ananyses"
   ]
  },
  {
   "cell_type": "markdown",
   "id": "ee266f44",
   "metadata": {},
   "source": [
    "## Calculate the Revenue"
   ]
  },
  {
   "cell_type": "code",
   "execution_count": 551,
   "id": "7b500177",
   "metadata": {},
   "outputs": [],
   "source": [
    "# caluculating the revenue by multipliying the Quantity with the UnitPrice\n",
    "df_clean['Revenue'] = df_clean['Quantity']*df_clean['UnitPrice']"
   ]
  },
  {
   "cell_type": "markdown",
   "id": "690563c3",
   "metadata": {},
   "source": [
    "## Finding first KPIs"
   ]
  },
  {
   "cell_type": "markdown",
   "id": "c8417299",
   "metadata": {},
   "source": [
    "### Revenue per Customer"
   ]
  },
  {
   "cell_type": "code",
   "execution_count": 552,
   "id": "21e4ded0",
   "metadata": {},
   "outputs": [
    {
     "data": {
      "text/html": [
       "<div>\n",
       "<style scoped>\n",
       "    .dataframe tbody tr th:only-of-type {\n",
       "        vertical-align: middle;\n",
       "    }\n",
       "\n",
       "    .dataframe tbody tr th {\n",
       "        vertical-align: top;\n",
       "    }\n",
       "\n",
       "    .dataframe thead th {\n",
       "        text-align: right;\n",
       "    }\n",
       "</style>\n",
       "<table border=\"1\" class=\"dataframe\">\n",
       "  <thead>\n",
       "    <tr style=\"text-align: right;\">\n",
       "      <th></th>\n",
       "      <th>Revenue</th>\n",
       "    </tr>\n",
       "  </thead>\n",
       "  <tbody>\n",
       "    <tr>\n",
       "      <th>count</th>\n",
       "      <td>4271.000000</td>\n",
       "    </tr>\n",
       "    <tr>\n",
       "      <th>mean</th>\n",
       "      <td>1983.859150</td>\n",
       "    </tr>\n",
       "    <tr>\n",
       "      <th>std</th>\n",
       "      <td>8723.497699</td>\n",
       "    </tr>\n",
       "    <tr>\n",
       "      <th>min</th>\n",
       "      <td>3.750000</td>\n",
       "    </tr>\n",
       "    <tr>\n",
       "      <th>25%</th>\n",
       "      <td>302.150000</td>\n",
       "    </tr>\n",
       "    <tr>\n",
       "      <th>50%</th>\n",
       "      <td>656.680000</td>\n",
       "    </tr>\n",
       "    <tr>\n",
       "      <th>75%</th>\n",
       "      <td>1614.610000</td>\n",
       "    </tr>\n",
       "    <tr>\n",
       "      <th>max</th>\n",
       "      <td>279138.020000</td>\n",
       "    </tr>\n",
       "  </tbody>\n",
       "</table>\n",
       "</div>"
      ],
      "text/plain": [
       "             Revenue\n",
       "count    4271.000000\n",
       "mean     1983.859150\n",
       "std      8723.497699\n",
       "min         3.750000\n",
       "25%       302.150000\n",
       "50%       656.680000\n",
       "75%      1614.610000\n",
       "max    279138.020000"
      ]
     },
     "execution_count": 552,
     "metadata": {},
     "output_type": "execute_result"
    }
   ],
   "source": [
    "df_cust = df_clean[df_clean['CustomerID']!='nan']\n",
    "rev_per_cust = df_cust[['Revenue', 'CustomerID']].groupby('CustomerID').sum()\n",
    "rev_per_cust.describe()"
   ]
  },
  {
   "cell_type": "markdown",
   "id": "d0c2d7da",
   "metadata": {},
   "source": [
    "### Revenue per Purchase"
   ]
  },
  {
   "cell_type": "code",
   "execution_count": 553,
   "id": "a66943f8",
   "metadata": {},
   "outputs": [
    {
     "data": {
      "text/html": [
       "<div>\n",
       "<style scoped>\n",
       "    .dataframe tbody tr th:only-of-type {\n",
       "        vertical-align: middle;\n",
       "    }\n",
       "\n",
       "    .dataframe tbody tr th {\n",
       "        vertical-align: top;\n",
       "    }\n",
       "\n",
       "    .dataframe thead th {\n",
       "        text-align: right;\n",
       "    }\n",
       "</style>\n",
       "<table border=\"1\" class=\"dataframe\">\n",
       "  <thead>\n",
       "    <tr style=\"text-align: right;\">\n",
       "      <th></th>\n",
       "      <th>Revenue</th>\n",
       "    </tr>\n",
       "  </thead>\n",
       "  <tbody>\n",
       "    <tr>\n",
       "      <th>count</th>\n",
       "      <td>19052.000000</td>\n",
       "    </tr>\n",
       "    <tr>\n",
       "      <th>mean</th>\n",
       "      <td>519.446711</td>\n",
       "    </tr>\n",
       "    <tr>\n",
       "      <th>std</th>\n",
       "      <td>1782.907135</td>\n",
       "    </tr>\n",
       "    <tr>\n",
       "      <th>min</th>\n",
       "      <td>0.380000</td>\n",
       "    </tr>\n",
       "    <tr>\n",
       "      <th>25%</th>\n",
       "      <td>152.445000</td>\n",
       "    </tr>\n",
       "    <tr>\n",
       "      <th>50%</th>\n",
       "      <td>302.855000</td>\n",
       "    </tr>\n",
       "    <tr>\n",
       "      <th>75%</th>\n",
       "      <td>485.182500</td>\n",
       "    </tr>\n",
       "    <tr>\n",
       "      <th>max</th>\n",
       "      <td>168469.600000</td>\n",
       "    </tr>\n",
       "  </tbody>\n",
       "</table>\n",
       "</div>"
      ],
      "text/plain": [
       "             Revenue\n",
       "count   19052.000000\n",
       "mean      519.446711\n",
       "std      1782.907135\n",
       "min         0.380000\n",
       "25%       152.445000\n",
       "50%       302.855000\n",
       "75%       485.182500\n",
       "max    168469.600000"
      ]
     },
     "execution_count": 553,
     "metadata": {},
     "output_type": "execute_result"
    }
   ],
   "source": [
    "rev_per_purch = df_clean[['Revenue', 'InvoiceNo']].groupby('InvoiceNo').sum()\n",
    "rev_per_purch.describe()"
   ]
  },
  {
   "cell_type": "markdown",
   "id": "c2d00163",
   "metadata": {},
   "source": [
    "### Purchases per Day"
   ]
  },
  {
   "cell_type": "code",
   "execution_count": 554,
   "id": "d4804d05",
   "metadata": {},
   "outputs": [
    {
     "data": {
      "text/html": [
       "<div>\n",
       "<style scoped>\n",
       "    .dataframe tbody tr th:only-of-type {\n",
       "        vertical-align: middle;\n",
       "    }\n",
       "\n",
       "    .dataframe tbody tr th {\n",
       "        vertical-align: top;\n",
       "    }\n",
       "\n",
       "    .dataframe thead th {\n",
       "        text-align: right;\n",
       "    }\n",
       "</style>\n",
       "<table border=\"1\" class=\"dataframe\">\n",
       "  <thead>\n",
       "    <tr style=\"text-align: right;\">\n",
       "      <th></th>\n",
       "      <th>InvoiceNo</th>\n",
       "    </tr>\n",
       "  </thead>\n",
       "  <tbody>\n",
       "    <tr>\n",
       "      <th>count</th>\n",
       "      <td>298.000000</td>\n",
       "    </tr>\n",
       "    <tr>\n",
       "      <th>mean</th>\n",
       "      <td>1690.661074</td>\n",
       "    </tr>\n",
       "    <tr>\n",
       "      <th>std</th>\n",
       "      <td>795.913940</td>\n",
       "    </tr>\n",
       "    <tr>\n",
       "      <th>min</th>\n",
       "      <td>220.000000</td>\n",
       "    </tr>\n",
       "    <tr>\n",
       "      <th>25%</th>\n",
       "      <td>1168.750000</td>\n",
       "    </tr>\n",
       "    <tr>\n",
       "      <th>50%</th>\n",
       "      <td>1496.500000</td>\n",
       "    </tr>\n",
       "    <tr>\n",
       "      <th>75%</th>\n",
       "      <td>1971.250000</td>\n",
       "    </tr>\n",
       "    <tr>\n",
       "      <th>max</th>\n",
       "      <td>5243.000000</td>\n",
       "    </tr>\n",
       "  </tbody>\n",
       "</table>\n",
       "</div>"
      ],
      "text/plain": [
       "         InvoiceNo\n",
       "count   298.000000\n",
       "mean   1690.661074\n",
       "std     795.913940\n",
       "min     220.000000\n",
       "25%    1168.750000\n",
       "50%    1496.500000\n",
       "75%    1971.250000\n",
       "max    5243.000000"
      ]
     },
     "execution_count": 554,
     "metadata": {},
     "output_type": "execute_result"
    }
   ],
   "source": [
    "# use only the dates\n",
    "df_clean['Date'] = df_clean['InvoiceDate'].dt.date\n",
    "# find the purchases per day\n",
    "purch_per_day = df_clean[['InvoiceNo', 'Date']].groupby('Date').count().sort_values('Date')\n",
    "purch_per_day.describe()"
   ]
  },
  {
   "cell_type": "code",
   "execution_count": 555,
   "id": "5f93ebb7",
   "metadata": {},
   "outputs": [
    {
     "data": {
      "image/png": "[encoded data removed]",
      "text/plain": [
       "<Figure size 1296x360 with 1 Axes>"
      ]
     },
     "metadata": {
      "needs_background": "light"
     },
     "output_type": "display_data"
    }
   ],
   "source": [
    "# plot the purchases per day in a histogram to see the distribution\n",
    "plt.hist(x=purch_per_day['InvoiceNo'], bins=30, color='cornflowerblue')\n",
    "plt.title('Purchases per Day')\n",
    "plt.xlabel('Purchase Count per Day')\n",
    "plt.ylabel('Count of Days')\n",
    "plt.show();"
   ]
  },
  {
   "cell_type": "code",
   "execution_count": 556,
   "id": "8ef5c8f2",
   "metadata": {
    "scrolled": false
   },
   "outputs": [
    {
     "data": {
      "image/png": "[encoded data removed]",
      "text/plain": [
       "<Figure size 1296x360 with 1 Axes>"
      ]
     },
     "metadata": {
      "needs_background": "light"
     },
     "output_type": "display_data"
    }
   ],
   "source": [
    "# plot the purchases per day in a lineplot\n",
    "g = sns.lineplot(data=purch_per_day, x='Date', y='InvoiceNo', color='cornflowerblue')\n",
    "g.set_xlabel('Date')\n",
    "g.set_ylabel('Purchases Count')\n",
    "g.set_title('Purchases per Day over the Year')\n",
    "g;"
   ]
  },
  {
   "cell_type": "markdown",
   "id": "62640daa",
   "metadata": {},
   "source": [
    "### Revenue per Customer per Purchase"
   ]
  },
  {
   "cell_type": "code",
   "execution_count": 557,
   "id": "5f8c1401",
   "metadata": {},
   "outputs": [
    {
     "data": {
      "text/html": [
       "<div>\n",
       "<style scoped>\n",
       "    .dataframe tbody tr th:only-of-type {\n",
       "        vertical-align: middle;\n",
       "    }\n",
       "\n",
       "    .dataframe tbody tr th {\n",
       "        vertical-align: top;\n",
       "    }\n",
       "\n",
       "    .dataframe thead th {\n",
       "        text-align: right;\n",
       "    }\n",
       "</style>\n",
       "<table border=\"1\" class=\"dataframe\">\n",
       "  <thead>\n",
       "    <tr style=\"text-align: right;\">\n",
       "      <th></th>\n",
       "      <th>Revenue</th>\n",
       "    </tr>\n",
       "  </thead>\n",
       "  <tbody>\n",
       "    <tr>\n",
       "      <th>count</th>\n",
       "      <td>17728.000000</td>\n",
       "    </tr>\n",
       "    <tr>\n",
       "      <th>mean</th>\n",
       "      <td>477.948016</td>\n",
       "    </tr>\n",
       "    <tr>\n",
       "      <th>std</th>\n",
       "      <td>1702.745772</td>\n",
       "    </tr>\n",
       "    <tr>\n",
       "      <th>min</th>\n",
       "      <td>0.380000</td>\n",
       "    </tr>\n",
       "    <tr>\n",
       "      <th>25%</th>\n",
       "      <td>157.767500</td>\n",
       "    </tr>\n",
       "    <tr>\n",
       "      <th>50%</th>\n",
       "      <td>302.400000</td>\n",
       "    </tr>\n",
       "    <tr>\n",
       "      <th>75%</th>\n",
       "      <td>466.687500</td>\n",
       "    </tr>\n",
       "    <tr>\n",
       "      <th>max</th>\n",
       "      <td>168469.600000</td>\n",
       "    </tr>\n",
       "  </tbody>\n",
       "</table>\n",
       "</div>"
      ],
      "text/plain": [
       "             Revenue\n",
       "count   17728.000000\n",
       "mean      477.948016\n",
       "std      1702.745772\n",
       "min         0.380000\n",
       "25%       157.767500\n",
       "50%       302.400000\n",
       "75%       466.687500\n",
       "max    168469.600000"
      ]
     },
     "execution_count": 557,
     "metadata": {},
     "output_type": "execute_result"
    }
   ],
   "source": [
    "rev_per_cust_purch = df_cust[['Revenue', 'CustomerID', 'InvoiceNo']].groupby(['CustomerID', 'InvoiceNo']).sum()\n",
    "rev_per_cust_purch.describe()"
   ]
  },
  {
   "cell_type": "markdown",
   "id": "4e653471",
   "metadata": {},
   "source": [
    "### Purchases per Month"
   ]
  },
  {
   "cell_type": "code",
   "execution_count": 558,
   "id": "44f3f5d3",
   "metadata": {},
   "outputs": [
    {
     "data": {
      "text/html": [
       "<div>\n",
       "<style scoped>\n",
       "    .dataframe tbody tr th:only-of-type {\n",
       "        vertical-align: middle;\n",
       "    }\n",
       "\n",
       "    .dataframe tbody tr th {\n",
       "        vertical-align: top;\n",
       "    }\n",
       "\n",
       "    .dataframe thead th {\n",
       "        text-align: right;\n",
       "    }\n",
       "</style>\n",
       "<table border=\"1\" class=\"dataframe\">\n",
       "  <thead>\n",
       "    <tr style=\"text-align: right;\">\n",
       "      <th></th>\n",
       "      <th>InvoiceNo</th>\n",
       "    </tr>\n",
       "  </thead>\n",
       "  <tbody>\n",
       "    <tr>\n",
       "      <th>count</th>\n",
       "      <td>12.00000</td>\n",
       "    </tr>\n",
       "    <tr>\n",
       "      <th>mean</th>\n",
       "      <td>41984.75000</td>\n",
       "    </tr>\n",
       "    <tr>\n",
       "      <th>std</th>\n",
       "      <td>15796.31834</td>\n",
       "    </tr>\n",
       "    <tr>\n",
       "      <th>min</th>\n",
       "      <td>26091.00000</td>\n",
       "    </tr>\n",
       "    <tr>\n",
       "      <th>25%</th>\n",
       "      <td>34100.25000</td>\n",
       "    </tr>\n",
       "    <tr>\n",
       "      <th>50%</th>\n",
       "      <td>37510.00000</td>\n",
       "    </tr>\n",
       "    <tr>\n",
       "      <th>75%</th>\n",
       "      <td>42480.75000</td>\n",
       "    </tr>\n",
       "    <tr>\n",
       "      <th>max</th>\n",
       "      <td>83051.00000</td>\n",
       "    </tr>\n",
       "  </tbody>\n",
       "</table>\n",
       "</div>"
      ],
      "text/plain": [
       "         InvoiceNo\n",
       "count     12.00000\n",
       "mean   41984.75000\n",
       "std    15796.31834\n",
       "min    26091.00000\n",
       "25%    34100.25000\n",
       "50%    37510.00000\n",
       "75%    42480.75000\n",
       "max    83051.00000"
      ]
     },
     "execution_count": 558,
     "metadata": {},
     "output_type": "execute_result"
    }
   ],
   "source": [
    "# create a column for months\n",
    "df_clean['Month'] = df_clean['InvoiceDate'].dt.month\n",
    "# find the purchases per day\n",
    "purch_per_month = df_clean[['InvoiceNo', 'Month']].groupby('Month').count()\n",
    "purch_per_month.describe()"
   ]
  },
  {
   "cell_type": "markdown",
   "id": "5a768bf6",
   "metadata": {},
   "source": [
    "## Patterns\n",
    "\n",
    "### In Quantity"
   ]
  },
  {
   "cell_type": "code",
   "execution_count": 559,
   "id": "e0417b1c",
   "metadata": {},
   "outputs": [
    {
     "data": {
      "text/plain": [
       "count    503817.000000\n",
       "mean         10.720859\n",
       "std         159.293476\n",
       "min           1.000000\n",
       "25%           1.000000\n",
       "50%           4.000000\n",
       "75%          12.000000\n",
       "max       80995.000000\n",
       "Name: Quantity, dtype: float64"
      ]
     },
     "execution_count": 559,
     "metadata": {},
     "output_type": "execute_result"
    }
   ],
   "source": [
    "# overview of the distribution of quantity\n",
    "df_clean['Quantity'].describe()"
   ]
  },
  {
   "cell_type": "code",
   "execution_count": 560,
   "id": "46378655",
   "metadata": {},
   "outputs": [
    {
     "data": {
      "text/html": [
       "<div>\n",
       "<style scoped>\n",
       "    .dataframe tbody tr th:only-of-type {\n",
       "        vertical-align: middle;\n",
       "    }\n",
       "\n",
       "    .dataframe tbody tr th {\n",
       "        vertical-align: top;\n",
       "    }\n",
       "\n",
       "    .dataframe thead th {\n",
       "        text-align: right;\n",
       "    }\n",
       "</style>\n",
       "<table border=\"1\" class=\"dataframe\">\n",
       "  <thead>\n",
       "    <tr style=\"text-align: right;\">\n",
       "      <th></th>\n",
       "      <th>Quantity</th>\n",
       "    </tr>\n",
       "  </thead>\n",
       "  <tbody>\n",
       "    <tr>\n",
       "      <th>count</th>\n",
       "      <td>19052.000000</td>\n",
       "    </tr>\n",
       "    <tr>\n",
       "      <th>mean</th>\n",
       "      <td>283.505721</td>\n",
       "    </tr>\n",
       "    <tr>\n",
       "      <th>std</th>\n",
       "      <td>973.656266</td>\n",
       "    </tr>\n",
       "    <tr>\n",
       "      <th>min</th>\n",
       "      <td>1.000000</td>\n",
       "    </tr>\n",
       "    <tr>\n",
       "      <th>25%</th>\n",
       "      <td>72.000000</td>\n",
       "    </tr>\n",
       "    <tr>\n",
       "      <th>50%</th>\n",
       "      <td>155.000000</td>\n",
       "    </tr>\n",
       "    <tr>\n",
       "      <th>75%</th>\n",
       "      <td>301.000000</td>\n",
       "    </tr>\n",
       "    <tr>\n",
       "      <th>max</th>\n",
       "      <td>80995.000000</td>\n",
       "    </tr>\n",
       "  </tbody>\n",
       "</table>\n",
       "</div>"
      ],
      "text/plain": [
       "           Quantity\n",
       "count  19052.000000\n",
       "mean     283.505721\n",
       "std      973.656266\n",
       "min        1.000000\n",
       "25%       72.000000\n",
       "50%      155.000000\n",
       "75%      301.000000\n",
       "max    80995.000000"
      ]
     },
     "execution_count": 560,
     "metadata": {},
     "output_type": "execute_result"
    }
   ],
   "source": [
    "# quantity per purchase\n",
    "quan_per_purch = df_clean[['Quantity', 'InvoiceNo']].groupby('InvoiceNo').sum()\n",
    "quan_per_purch.describe()"
   ]
  },
  {
   "cell_type": "markdown",
   "id": "0b14a179",
   "metadata": {},
   "source": [
    "### In Prices"
   ]
  },
  {
   "cell_type": "code",
   "execution_count": 561,
   "id": "ebb59d0a",
   "metadata": {},
   "outputs": [],
   "source": [
    "# pick the max price of every single product\n",
    "df_max = df_clean[['Description', 'UnitPrice']].groupby('Description').max()\n",
    "df_max['MaxPrice'] = df_max['UnitPrice']\n",
    "df_max = df_max.drop(columns='UnitPrice', axis=1)\n",
    "# create the PriceLevel column by joining to the df\n",
    "df_clean = df_clean.join(df_max, on='Description')\n",
    "df_clean['PriceLevel'] = round((df_clean['UnitPrice']/df_clean['MaxPrice'])*100).astype('int')\n",
    "df_clean = df_clean.drop(columns='MaxPrice', axis=1)"
   ]
  },
  {
   "cell_type": "code",
   "execution_count": 562,
   "id": "2caf494e",
   "metadata": {},
   "outputs": [
    {
     "data": {
      "image/png": "[encoded data removed]",
      "text/plain": [
       "<Figure size 1296x360 with 1 Axes>"
      ]
     },
     "metadata": {
      "needs_background": "light"
     },
     "output_type": "display_data"
    }
   ],
   "source": [
    "# plot the price level distribution\n",
    "plt.hist(x=df_clean['PriceLevel'], bins=25, color='cornflowerblue')\n",
    "plt.title('Distribution of Price Levels')\n",
    "plt.xlabel('Percentage Price')\n",
    "plt.ylabel('Count of every single purchased Product')\n",
    "plt.show();"
   ]
  },
  {
   "cell_type": "markdown",
   "id": "8b8b1104",
   "metadata": {},
   "source": [
    "## Conclusion\n",
    "\n",
    "* The average revenue per customer is: 1983.86\n",
    "* The average revenue per purchase is: 519.45\n",
    "* The average number of purchases per day is: 1690\n",
    "* The average customer spends 477.95 per purchase\n",
    "* Most of the days have between 1000 and 2000 purchases\n",
    "* Before Christmas the purchases per day increases\n",
    "* The average quantity of a single product is: 10\n",
    "* The average quantity per purchase is: 283\n",
    "* Most of the Products were 50% or less of the maximum price"
   ]
  },
  {
   "cell_type": "markdown",
   "id": "9cefa553",
   "metadata": {},
   "source": [
    "# Part 3 Product Analysis"
   ]
  },
  {
   "cell_type": "markdown",
   "id": "959cb0b5",
   "metadata": {},
   "source": [
    "## Catgegorize Products by ABC Analysis\n",
    "\n",
    "**ABC-Analysis is a distribution of products in 3 categories:**\n",
    "* A: The best selling producs, they make 70% of the revenue\n",
    "* B: These products make a acceptable amount of revenue. In this case 25%. These should continue to be sold\n",
    "* C: These products should be taken out of the assortment. They make the least 5% of the revenue and cost more to store it in the shop"
   ]
  },
  {
   "cell_type": "code",
   "execution_count": 563,
   "id": "f0b9e72a",
   "metadata": {},
   "outputs": [],
   "source": [
    "#create a function to distribute the accumulated values in A, B, or C\n",
    "def distribute_in_abc(row, column):\n",
    "    if row[column] <70:\n",
    "        return 'A'\n",
    "    elif row[column] <95:\n",
    "        return 'B'\n",
    "    else:\n",
    "        return 'C'\n",
    "\n",
    "# create a function for \n",
    "def abc_analysis(df, column):\n",
    "    '''\n",
    "    distribute all values of the column in A, B, or C by Revenue\n",
    "    '''\n",
    "    # create columns for market share and accumulation\n",
    "    share = df[[column, 'Revenue']].groupby(column, as_index=False).sum()\n",
    "    share['MarketShare'] = round((share['Revenue']/share['Revenue'].sum())*100, 2)\n",
    "    share = share.sort_values('MarketShare', ascending=False)\n",
    "    share['Accumulated'] = share['MarketShare'].cumsum()\n",
    "    share[f'ABC {column}'] = share.apply(lambda row: distribute_in_abc(row, 'Accumulated'), axis=1)\n",
    "    # drop the unnecessary columns\n",
    "    share = share.drop(columns=['MarketShare', 'Accumulated', 'Revenue'])\n",
    "    share[column] = share[column].astype(str)\n",
    "    # merge the dataframes\n",
    "    df = df.merge(share, on=column, copy=False)\n",
    "    return df"
   ]
  },
  {
   "cell_type": "code",
   "execution_count": 564,
   "id": "6de9408e",
   "metadata": {},
   "outputs": [],
   "source": [
    "# distribute the products with the function\n",
    "df_clean = abc_analysis(df_clean, 'Description')"
   ]
  },
  {
   "cell_type": "code",
   "execution_count": 565,
   "id": "7d602978",
   "metadata": {},
   "outputs": [
    {
     "data": {
      "text/html": [
       "<div>\n",
       "<style scoped>\n",
       "    .dataframe tbody tr th:only-of-type {\n",
       "        vertical-align: middle;\n",
       "    }\n",
       "\n",
       "    .dataframe tbody tr th {\n",
       "        vertical-align: top;\n",
       "    }\n",
       "\n",
       "    .dataframe thead th {\n",
       "        text-align: right;\n",
       "    }\n",
       "</style>\n",
       "<table border=\"1\" class=\"dataframe\">\n",
       "  <thead>\n",
       "    <tr style=\"text-align: right;\">\n",
       "      <th></th>\n",
       "      <th>Quantity</th>\n",
       "      <th>UnitPrice</th>\n",
       "      <th>Revenue</th>\n",
       "      <th>Month</th>\n",
       "      <th>PriceLevel</th>\n",
       "    </tr>\n",
       "    <tr>\n",
       "      <th>ABC Description</th>\n",
       "      <th></th>\n",
       "      <th></th>\n",
       "      <th></th>\n",
       "      <th></th>\n",
       "      <th></th>\n",
       "    </tr>\n",
       "  </thead>\n",
       "  <tbody>\n",
       "    <tr>\n",
       "      <th>A</th>\n",
       "      <td>3051637</td>\n",
       "      <td>994947.74</td>\n",
       "      <td>6916653.94</td>\n",
       "      <td>1831032</td>\n",
       "      <td>12566079</td>\n",
       "    </tr>\n",
       "    <tr>\n",
       "      <th>B</th>\n",
       "      <td>1770798</td>\n",
       "      <td>496859.68</td>\n",
       "      <td>2381850.04</td>\n",
       "      <td>1373148</td>\n",
       "      <td>10209117</td>\n",
       "    </tr>\n",
       "    <tr>\n",
       "      <th>C</th>\n",
       "      <td>578916</td>\n",
       "      <td>156267.46</td>\n",
       "      <td>597994.76</td>\n",
       "      <td>489943</td>\n",
       "      <td>4239056</td>\n",
       "    </tr>\n",
       "  </tbody>\n",
       "</table>\n",
       "</div>"
      ],
      "text/plain": [
       "                 Quantity  UnitPrice     Revenue    Month  PriceLevel\n",
       "ABC Description                                                      \n",
       "A                 3051637  994947.74  6916653.94  1831032    12566079\n",
       "B                 1770798  496859.68  2381850.04  1373148    10209117\n",
       "C                  578916  156267.46   597994.76   489943     4239056"
      ]
     },
     "execution_count": 565,
     "metadata": {},
     "output_type": "execute_result"
    }
   ],
   "source": [
    "# get a qick overview about the ABC analysis\n",
    "df_clean.groupby('ABC Description').sum()"
   ]
  },
  {
   "cell_type": "code",
   "execution_count": 566,
   "id": "3b38560b",
   "metadata": {},
   "outputs": [
    {
     "data": {
      "text/html": [
       "<div>\n",
       "<style scoped>\n",
       "    .dataframe tbody tr th:only-of-type {\n",
       "        vertical-align: middle;\n",
       "    }\n",
       "\n",
       "    .dataframe tbody tr th {\n",
       "        vertical-align: top;\n",
       "    }\n",
       "\n",
       "    .dataframe thead th {\n",
       "        text-align: right;\n",
       "    }\n",
       "</style>\n",
       "<table border=\"1\" class=\"dataframe\">\n",
       "  <thead>\n",
       "    <tr style=\"text-align: right;\">\n",
       "      <th></th>\n",
       "      <th>Quantity</th>\n",
       "      <th>UnitPrice</th>\n",
       "      <th>Revenue</th>\n",
       "      <th>Month</th>\n",
       "      <th>PriceLevel</th>\n",
       "    </tr>\n",
       "    <tr>\n",
       "      <th>ABC Description</th>\n",
       "      <th></th>\n",
       "      <th></th>\n",
       "      <th></th>\n",
       "      <th></th>\n",
       "      <th></th>\n",
       "    </tr>\n",
       "  </thead>\n",
       "  <tbody>\n",
       "    <tr>\n",
       "      <th>A</th>\n",
       "      <td>12.211726</td>\n",
       "      <td>3.981479</td>\n",
       "      <td>27.678351</td>\n",
       "      <td>7.327235</td>\n",
       "      <td>50.285637</td>\n",
       "    </tr>\n",
       "    <tr>\n",
       "      <th>B</th>\n",
       "      <td>9.614967</td>\n",
       "      <td>2.697817</td>\n",
       "      <td>12.932818</td>\n",
       "      <td>7.455832</td>\n",
       "      <td>55.432815</td>\n",
       "    </tr>\n",
       "    <tr>\n",
       "      <th>C</th>\n",
       "      <td>8.299633</td>\n",
       "      <td>2.240329</td>\n",
       "      <td>8.573156</td>\n",
       "      <td>7.024071</td>\n",
       "      <td>60.773254</td>\n",
       "    </tr>\n",
       "  </tbody>\n",
       "</table>\n",
       "</div>"
      ],
      "text/plain": [
       "                  Quantity  UnitPrice    Revenue     Month  PriceLevel\n",
       "ABC Description                                                       \n",
       "A                12.211726   3.981479  27.678351  7.327235   50.285637\n",
       "B                 9.614967   2.697817  12.932818  7.455832   55.432815\n",
       "C                 8.299633   2.240329   8.573156  7.024071   60.773254"
      ]
     },
     "execution_count": 566,
     "metadata": {},
     "output_type": "execute_result"
    }
   ],
   "source": [
    "df_clean.groupby('ABC Description').mean()"
   ]
  },
  {
   "cell_type": "markdown",
   "id": "46de04f2",
   "metadata": {},
   "source": [
    "## Analyze Correlations"
   ]
  },
  {
   "cell_type": "code",
   "execution_count": 567,
   "id": "161f39c1",
   "metadata": {},
   "outputs": [
    {
     "data": {
      "image/png": "[encoded data removed]",
      "text/plain": [
       "<Figure size 808.625x720 with 20 Axes>"
      ]
     },
     "metadata": {
      "needs_background": "light"
     },
     "output_type": "display_data"
    }
   ],
   "source": [
    "# finding correlations with a scatter matrix\n",
    "matrix = sns.PairGrid(data = df_clean, vars=['UnitPrice', 'PriceLevel', 'Quantity', 'Revenue'], hue='ABC Description')\n",
    "matrix.map_offdiag(plt.scatter)\n",
    "matrix.map_diag(plt.hist)\n",
    "matrix.add_legend();"
   ]
  },
  {
   "cell_type": "markdown",
   "id": "1fb106ff",
   "metadata": {},
   "source": [
    "### What we can see:\n",
    "\n",
    "* There's a few Outliers. They confuse the Visualization\n",
    "* 3 Products with an incredible high Price. Only one of them ensures a high Revenue\n",
    "* 1 Product with high sales figures and Revenue and the Price is 50% off\n",
    "* 2 Products with high sales figures and Revenue that are almost 100% off\n",
    "* Most of the Products are 50% from the max Price\n",
    "* The cheaper Products create the most Revenue\n",
    "* Almost no Product creates high Revenue by full Price"
   ]
  },
  {
   "cell_type": "markdown",
   "id": "31745af7",
   "metadata": {},
   "source": [
    "## Analysing the Outliers\n",
    "\n",
    "**How can we influence revenue by harnessing the influence of outliers?**"
   ]
  },
  {
   "cell_type": "code",
   "execution_count": 568,
   "id": "61472a85",
   "metadata": {},
   "outputs": [
    {
     "data": {
      "text/html": [
       "<div>\n",
       "<style scoped>\n",
       "    .dataframe tbody tr th:only-of-type {\n",
       "        vertical-align: middle;\n",
       "    }\n",
       "\n",
       "    .dataframe tbody tr th {\n",
       "        vertical-align: top;\n",
       "    }\n",
       "\n",
       "    .dataframe thead th {\n",
       "        text-align: right;\n",
       "    }\n",
       "</style>\n",
       "<table border=\"1\" class=\"dataframe\">\n",
       "  <thead>\n",
       "    <tr style=\"text-align: right;\">\n",
       "      <th></th>\n",
       "      <th></th>\n",
       "      <th></th>\n",
       "      <th></th>\n",
       "      <th>Quantity</th>\n",
       "      <th>UnitPrice</th>\n",
       "      <th>Revenue</th>\n",
       "      <th>Month</th>\n",
       "    </tr>\n",
       "    <tr>\n",
       "      <th>Description</th>\n",
       "      <th>ABC Description</th>\n",
       "      <th>CustomerID</th>\n",
       "      <th>PriceLevel</th>\n",
       "      <th></th>\n",
       "      <th></th>\n",
       "      <th></th>\n",
       "      <th></th>\n",
       "    </tr>\n",
       "  </thead>\n",
       "  <tbody>\n",
       "    <tr>\n",
       "      <th>PICNIC BASKET WICKER 60 PIECES</th>\n",
       "      <th>A</th>\n",
       "      <th>15098.0</th>\n",
       "      <th>100</th>\n",
       "      <td>61</td>\n",
       "      <td>1299.0</td>\n",
       "      <td>39619.5</td>\n",
       "      <td>12</td>\n",
       "    </tr>\n",
       "    <tr>\n",
       "      <th rowspan=\"2\" valign=\"top\">VINTAGE BLUE KITCHEN CABINET</th>\n",
       "      <th rowspan=\"2\" valign=\"top\">B</th>\n",
       "      <th>13452.0</th>\n",
       "      <th>100</th>\n",
       "      <td>2</td>\n",
       "      <td>590.0</td>\n",
       "      <td>590.0</td>\n",
       "      <td>6</td>\n",
       "    </tr>\n",
       "    <tr>\n",
       "      <th>14973.0</th>\n",
       "      <th>100</th>\n",
       "      <td>1</td>\n",
       "      <td>295.0</td>\n",
       "      <td>295.0</td>\n",
       "      <td>4</td>\n",
       "    </tr>\n",
       "    <tr>\n",
       "      <th rowspan=\"4\" valign=\"top\">VINTAGE RED KITCHEN CABINET</th>\n",
       "      <th rowspan=\"4\" valign=\"top\">A</th>\n",
       "      <th>13015.0</th>\n",
       "      <th>100</th>\n",
       "      <td>1</td>\n",
       "      <td>295.0</td>\n",
       "      <td>295.0</td>\n",
       "      <td>5</td>\n",
       "    </tr>\n",
       "    <tr>\n",
       "      <th>14842.0</th>\n",
       "      <th>100</th>\n",
       "      <td>1</td>\n",
       "      <td>295.0</td>\n",
       "      <td>295.0</td>\n",
       "      <td>2</td>\n",
       "    </tr>\n",
       "    <tr>\n",
       "      <th>16607.0</th>\n",
       "      <th>100</th>\n",
       "      <td>1</td>\n",
       "      <td>295.0</td>\n",
       "      <td>295.0</td>\n",
       "      <td>12</td>\n",
       "    </tr>\n",
       "    <tr>\n",
       "      <th>17406.0</th>\n",
       "      <th>100</th>\n",
       "      <td>1</td>\n",
       "      <td>295.0</td>\n",
       "      <td>295.0</td>\n",
       "      <td>1</td>\n",
       "    </tr>\n",
       "  </tbody>\n",
       "</table>\n",
       "</div>"
      ],
      "text/plain": [
       "                                                                      Quantity  \\\n",
       "Description                    ABC Description CustomerID PriceLevel             \n",
       "PICNIC BASKET WICKER 60 PIECES A               15098.0    100               61   \n",
       "VINTAGE BLUE KITCHEN CABINET   B               13452.0    100                2   \n",
       "                                               14973.0    100                1   \n",
       "VINTAGE RED KITCHEN CABINET    A               13015.0    100                1   \n",
       "                                               14842.0    100                1   \n",
       "                                               16607.0    100                1   \n",
       "                                               17406.0    100                1   \n",
       "\n",
       "                                                                      UnitPrice  \\\n",
       "Description                    ABC Description CustomerID PriceLevel              \n",
       "PICNIC BASKET WICKER 60 PIECES A               15098.0    100            1299.0   \n",
       "VINTAGE BLUE KITCHEN CABINET   B               13452.0    100             590.0   \n",
       "                                               14973.0    100             295.0   \n",
       "VINTAGE RED KITCHEN CABINET    A               13015.0    100             295.0   \n",
       "                                               14842.0    100             295.0   \n",
       "                                               16607.0    100             295.0   \n",
       "                                               17406.0    100             295.0   \n",
       "\n",
       "                                                                      Revenue  \\\n",
       "Description                    ABC Description CustomerID PriceLevel            \n",
       "PICNIC BASKET WICKER 60 PIECES A               15098.0    100         39619.5   \n",
       "VINTAGE BLUE KITCHEN CABINET   B               13452.0    100           590.0   \n",
       "                                               14973.0    100           295.0   \n",
       "VINTAGE RED KITCHEN CABINET    A               13015.0    100           295.0   \n",
       "                                               14842.0    100           295.0   \n",
       "                                               16607.0    100           295.0   \n",
       "                                               17406.0    100           295.0   \n",
       "\n",
       "                                                                      Month  \n",
       "Description                    ABC Description CustomerID PriceLevel         \n",
       "PICNIC BASKET WICKER 60 PIECES A               15098.0    100            12  \n",
       "VINTAGE BLUE KITCHEN CABINET   B               13452.0    100             6  \n",
       "                                               14973.0    100             4  \n",
       "VINTAGE RED KITCHEN CABINET    A               13015.0    100             5  \n",
       "                                               14842.0    100             2  \n",
       "                                               16607.0    100            12  \n",
       "                                               17406.0    100             1  "
      ]
     },
     "execution_count": 568,
     "metadata": {},
     "output_type": "execute_result"
    }
   ],
   "source": [
    "# products with the hightest price\n",
    "high_price = df_clean[df_clean['UnitPrice']>220]\n",
    "high_price = high_price.groupby(['Description', 'ABC Description', 'CustomerID', 'PriceLevel']).sum()\n",
    "high_price"
   ]
  },
  {
   "cell_type": "code",
   "execution_count": 569,
   "id": "32850ce7",
   "metadata": {},
   "outputs": [
    {
     "data": {
      "text/html": [
       "<div>\n",
       "<style scoped>\n",
       "    .dataframe tbody tr th:only-of-type {\n",
       "        vertical-align: middle;\n",
       "    }\n",
       "\n",
       "    .dataframe tbody tr th {\n",
       "        vertical-align: top;\n",
       "    }\n",
       "\n",
       "    .dataframe thead th {\n",
       "        text-align: right;\n",
       "    }\n",
       "</style>\n",
       "<table border=\"1\" class=\"dataframe\">\n",
       "  <thead>\n",
       "    <tr style=\"text-align: right;\">\n",
       "      <th></th>\n",
       "      <th></th>\n",
       "      <th></th>\n",
       "      <th></th>\n",
       "      <th>Quantity</th>\n",
       "      <th>UnitPrice</th>\n",
       "      <th>Revenue</th>\n",
       "      <th>Month</th>\n",
       "    </tr>\n",
       "    <tr>\n",
       "      <th>Description</th>\n",
       "      <th>ABC Description</th>\n",
       "      <th>CustomerID</th>\n",
       "      <th>PriceLevel</th>\n",
       "      <th></th>\n",
       "      <th></th>\n",
       "      <th></th>\n",
       "      <th></th>\n",
       "    </tr>\n",
       "  </thead>\n",
       "  <tbody>\n",
       "    <tr>\n",
       "      <th>MEDIUM CERAMIC TOP STORAGE JAR</th>\n",
       "      <th>A</th>\n",
       "      <th>12346.0</th>\n",
       "      <th>42</th>\n",
       "      <td>74215</td>\n",
       "      <td>1.04</td>\n",
       "      <td>77183.6</td>\n",
       "      <td>1</td>\n",
       "    </tr>\n",
       "    <tr>\n",
       "      <th>PAPER CRAFT , LITTLE BIRDIE</th>\n",
       "      <th>A</th>\n",
       "      <th>16446.0</th>\n",
       "      <th>100</th>\n",
       "      <td>80995</td>\n",
       "      <td>2.08</td>\n",
       "      <td>168469.6</td>\n",
       "      <td>12</td>\n",
       "    </tr>\n",
       "  </tbody>\n",
       "</table>\n",
       "</div>"
      ],
      "text/plain": [
       "                                                                      Quantity  \\\n",
       "Description                    ABC Description CustomerID PriceLevel             \n",
       "MEDIUM CERAMIC TOP STORAGE JAR A               12346.0    42             74215   \n",
       "PAPER CRAFT , LITTLE BIRDIE    A               16446.0    100            80995   \n",
       "\n",
       "                                                                      UnitPrice  \\\n",
       "Description                    ABC Description CustomerID PriceLevel              \n",
       "MEDIUM CERAMIC TOP STORAGE JAR A               12346.0    42               1.04   \n",
       "PAPER CRAFT , LITTLE BIRDIE    A               16446.0    100              2.08   \n",
       "\n",
       "                                                                       Revenue  \\\n",
       "Description                    ABC Description CustomerID PriceLevel             \n",
       "MEDIUM CERAMIC TOP STORAGE JAR A               12346.0    42           77183.6   \n",
       "PAPER CRAFT , LITTLE BIRDIE    A               16446.0    100         168469.6   \n",
       "\n",
       "                                                                      Month  \n",
       "Description                    ABC Description CustomerID PriceLevel         \n",
       "MEDIUM CERAMIC TOP STORAGE JAR A               12346.0    42              1  \n",
       "PAPER CRAFT , LITTLE BIRDIE    A               16446.0    100            12  "
      ]
     },
     "execution_count": 569,
     "metadata": {},
     "output_type": "execute_result"
    }
   ],
   "source": [
    "# products with the hightest quantity\n",
    "high_quant = df_clean[df_clean['Quantity']> 20000]\n",
    "high_quant = high_quant.groupby(['Description', 'ABC Description', 'CustomerID', 'PriceLevel']).sum()\n",
    "high_quant"
   ]
  },
  {
   "cell_type": "code",
   "execution_count": 570,
   "id": "65ebc045",
   "metadata": {},
   "outputs": [
    {
     "data": {
      "text/html": [
       "<div>\n",
       "<style scoped>\n",
       "    .dataframe tbody tr th:only-of-type {\n",
       "        vertical-align: middle;\n",
       "    }\n",
       "\n",
       "    .dataframe tbody tr th {\n",
       "        vertical-align: top;\n",
       "    }\n",
       "\n",
       "    .dataframe thead th {\n",
       "        text-align: right;\n",
       "    }\n",
       "</style>\n",
       "<table border=\"1\" class=\"dataframe\">\n",
       "  <thead>\n",
       "    <tr style=\"text-align: right;\">\n",
       "      <th></th>\n",
       "      <th></th>\n",
       "      <th></th>\n",
       "      <th></th>\n",
       "      <th>Quantity</th>\n",
       "      <th>UnitPrice</th>\n",
       "      <th>Revenue</th>\n",
       "      <th>Month</th>\n",
       "    </tr>\n",
       "    <tr>\n",
       "      <th>Description</th>\n",
       "      <th>ABC Description</th>\n",
       "      <th>CustomerID</th>\n",
       "      <th>PriceLevel</th>\n",
       "      <th></th>\n",
       "      <th></th>\n",
       "      <th></th>\n",
       "      <th></th>\n",
       "    </tr>\n",
       "  </thead>\n",
       "  <tbody>\n",
       "    <tr>\n",
       "      <th>MEDIUM CERAMIC TOP STORAGE JAR</th>\n",
       "      <th>A</th>\n",
       "      <th>12346.0</th>\n",
       "      <th>42</th>\n",
       "      <td>74215</td>\n",
       "      <td>1.04</td>\n",
       "      <td>77183.6</td>\n",
       "      <td>1</td>\n",
       "    </tr>\n",
       "    <tr>\n",
       "      <th>PAPER CRAFT , LITTLE BIRDIE</th>\n",
       "      <th>A</th>\n",
       "      <th>16446.0</th>\n",
       "      <th>100</th>\n",
       "      <td>80995</td>\n",
       "      <td>2.08</td>\n",
       "      <td>168469.6</td>\n",
       "      <td>12</td>\n",
       "    </tr>\n",
       "    <tr>\n",
       "      <th>PICNIC BASKET WICKER 60 PIECES</th>\n",
       "      <th>A</th>\n",
       "      <th>15098.0</th>\n",
       "      <th>100</th>\n",
       "      <td>60</td>\n",
       "      <td>649.50</td>\n",
       "      <td>38970.0</td>\n",
       "      <td>6</td>\n",
       "    </tr>\n",
       "  </tbody>\n",
       "</table>\n",
       "</div>"
      ],
      "text/plain": [
       "                                                                      Quantity  \\\n",
       "Description                    ABC Description CustomerID PriceLevel             \n",
       "MEDIUM CERAMIC TOP STORAGE JAR A               12346.0    42             74215   \n",
       "PAPER CRAFT , LITTLE BIRDIE    A               16446.0    100            80995   \n",
       "PICNIC BASKET WICKER 60 PIECES A               15098.0    100               60   \n",
       "\n",
       "                                                                      UnitPrice  \\\n",
       "Description                    ABC Description CustomerID PriceLevel              \n",
       "MEDIUM CERAMIC TOP STORAGE JAR A               12346.0    42               1.04   \n",
       "PAPER CRAFT , LITTLE BIRDIE    A               16446.0    100              2.08   \n",
       "PICNIC BASKET WICKER 60 PIECES A               15098.0    100            649.50   \n",
       "\n",
       "                                                                       Revenue  \\\n",
       "Description                    ABC Description CustomerID PriceLevel             \n",
       "MEDIUM CERAMIC TOP STORAGE JAR A               12346.0    42           77183.6   \n",
       "PAPER CRAFT , LITTLE BIRDIE    A               16446.0    100         168469.6   \n",
       "PICNIC BASKET WICKER 60 PIECES A               15098.0    100          38970.0   \n",
       "\n",
       "                                                                      Month  \n",
       "Description                    ABC Description CustomerID PriceLevel         \n",
       "MEDIUM CERAMIC TOP STORAGE JAR A               12346.0    42              1  \n",
       "PAPER CRAFT , LITTLE BIRDIE    A               16446.0    100            12  \n",
       "PICNIC BASKET WICKER 60 PIECES A               15098.0    100             6  "
      ]
     },
     "execution_count": 570,
     "metadata": {},
     "output_type": "execute_result"
    }
   ],
   "source": [
    "# products with the hightest revenue\n",
    "high_rev = df_clean[df_clean['Revenue']> 20000]\n",
    "high_rev = high_rev.groupby(['Description', 'ABC Description', 'CustomerID', 'PriceLevel']).sum()\n",
    "high_rev"
   ]
  },
  {
   "cell_type": "markdown",
   "id": "e6f2cf5c",
   "metadata": {},
   "source": [
    "### Conclusion\n",
    "\n",
    "* There're 2 high priced A products and one B product.\n",
    "* Only one customer bought all the 61 picnic baskets.\n",
    "* The two best-selling products were also only bought by a single customer\n",
    "* The products that generated the highest Revenue also have the highest quantity\n",
    "* All Outliers were boughts maybe by a special order and it seems that they will not be offered regularly"
   ]
  },
  {
   "cell_type": "markdown",
   "id": "5831c083",
   "metadata": {},
   "source": [
    "### Delete the Outliers to get a better view over the Correlations"
   ]
  },
  {
   "cell_type": "code",
   "execution_count": 571,
   "id": "1c7b9e49",
   "metadata": {},
   "outputs": [
    {
     "data": {
      "image/png": "[encoded data removed]",
      "text/plain": [
       "<Figure size 808.625x720 with 20 Axes>"
      ]
     },
     "metadata": {
      "needs_background": "light"
     },
     "output_type": "display_data"
    }
   ],
   "source": [
    "# gethering all the outliers and drop it from the dataset\n",
    "df_clean = df_clean[(df_clean['Revenue']<20000) & (df_clean['Quantity']<20000) & (df_clean['UnitPrice']<220)]\n",
    "# plot the correlations\n",
    "matrix = sns.PairGrid(data = df_clean, vars=['UnitPrice', 'PriceLevel', 'Quantity', 'Revenue'], hue='ABC Description')\n",
    "matrix.map_offdiag(plt.scatter)\n",
    "matrix.map_diag(plt.hist)\n",
    "matrix.add_legend();"
   ]
  },
  {
   "cell_type": "markdown",
   "id": "b061a9a7",
   "metadata": {},
   "source": [
    "### What we can see\n",
    "\n",
    "* High prices products are not the top seller (exceptions prove the rule, we deleted the outliers)\n",
    "* most of the products are on 50% of the maximum price\n",
    "* We should focus more on the A-products, because they make great Quantity and Revenue\n",
    "* We should sort out C-products"
   ]
  },
  {
   "cell_type": "markdown",
   "id": "64e8f0e6",
   "metadata": {},
   "source": [
    "# Part 4 Goal-oriented Analyses\n",
    "\n",
    "## Categorize Customers by RFM Analysis\n",
    "\n",
    "[Source Link](https://www.youtube.com/watch?v=VE0m2FLoJCk)\n",
    "\n",
    "### Definition of RFM Analysis\n",
    "\n",
    "* **R:** Recency, customer activity. Time since the last order\n",
    "* **F:** Frequency, frequency of the customer. Number of orders\n",
    "* **M:** Monetary, total value of the transaktions of the customer\n",
    "\n",
    "**The RFM-Analysis ranks a customer in these three categories. The lower the score the better the result. The *best* customer would have the lowest score in every category**"
   ]
  },
  {
   "cell_type": "code",
   "execution_count": 572,
   "id": "f8986fbb",
   "metadata": {},
   "outputs": [],
   "source": [
    "# set the latest date\n",
    "latest_date = df_clean['InvoiceDate'].max()\n",
    "\n",
    "# get rid of the 'nan' values in CustomerID\n",
    "df_cust = df_clean.copy()\n",
    "df_cust = df_cust = df_clean[df_clean['CustomerID']!='nan']\n",
    "\n",
    "# create rfm modelling scores\n",
    "rfm_scores = df_clean.groupby('CustomerID').agg({'InvoiceDate': lambda x: (latest_date - x.max()).days, 'InvoiceNo': lambda x: len(x), 'Revenue': lambda x: x.sum()})\n",
    "\n",
    "# convert InvoiceDate to an integer\n",
    "rfm_scores['InvoiceDate'] = rfm_scores['InvoiceDate'].astype(int)\n",
    "\n",
    "# rename columns\n",
    "rfm_scores.rename(columns={'InvoiceDate': 'Recency', 'InvoiceNo': 'Frequency', 'Revenue': 'Monetary'}, inplace=True)"
   ]
  },
  {
   "cell_type": "code",
   "execution_count": 573,
   "id": "b1b0b7c5",
   "metadata": {},
   "outputs": [],
   "source": [
    "# split into four quantiles\n",
    "quantiles = rfm_scores.quantile(q=[0.25, 0.5, 0.75])\n",
    "quantiles = quantiles.to_dict()"
   ]
  },
  {
   "cell_type": "code",
   "execution_count": 574,
   "id": "2175dfed",
   "metadata": {},
   "outputs": [],
   "source": [
    "# define functions to create R, F and M segments\n",
    "def r_scoring(x, p, d):\n",
    "    if x <= d[p][0.25]:\n",
    "        return 1\n",
    "    elif x <= d[p][0.5]:\n",
    "        return 2\n",
    "    elif x <= d[p][0.75]:\n",
    "        return 3\n",
    "    else:\n",
    "        return 4\n",
    "    \n",
    "\n",
    "def f_and_m_scoring(x, p, d):\n",
    "    if x <= d[p][0.25]:\n",
    "        return 4\n",
    "    elif x <= d[p][0.5]:\n",
    "        return 3\n",
    "    elif x <= d[p][0.75]:\n",
    "        return 2\n",
    "    else:\n",
    "        return 1"
   ]
  },
  {
   "cell_type": "code",
   "execution_count": 575,
   "id": "9578cbe3",
   "metadata": {},
   "outputs": [],
   "source": [
    "# calculate r, f and m segment value volumns in the dataset\n",
    "rfm_scores['R'] = rfm_scores['Recency'].apply(r_scoring, args=('Recency', quantiles, ))\n",
    "rfm_scores['F'] = rfm_scores['Frequency'].apply(f_and_m_scoring, args=('Frequency', quantiles, ))\n",
    "rfm_scores['M'] = rfm_scores['Monetary'].apply(f_and_m_scoring, args=('Monetary', quantiles, ))\n",
    "\n",
    "# calculate the rfm group\n",
    "rfm_scores['RFMGroup'] = rfm_scores['R'].map(str) + rfm_scores['F'].map(str) + rfm_scores['M'].map(str)\n",
    "\n",
    "# calculate the rfm score\n",
    "rfm_scores['RFMScore'] = rfm_scores[['R', 'F', 'M']].sum(axis=1)"
   ]
  },
  {
   "cell_type": "code",
   "execution_count": 576,
   "id": "ea934fc2",
   "metadata": {},
   "outputs": [],
   "source": [
    "# assing loyality level to each customer\n",
    "loyality_level = ['Platinum', 'Gold', 'Silver', 'Bronze']\n",
    "score_cuts = pd.qcut(rfm_scores['RFMScore'], q=4, labels=loyality_level)\n",
    "rfm_scores['LoyalityLevel'] = score_cuts.values\n",
    "rfm_scores = rfm_scores.reset_index()"
   ]
  },
  {
   "cell_type": "code",
   "execution_count": 577,
   "id": "754e85db",
   "metadata": {},
   "outputs": [
    {
     "data": {
      "text/html": [
       "<div>\n",
       "<style scoped>\n",
       "    .dataframe tbody tr th:only-of-type {\n",
       "        vertical-align: middle;\n",
       "    }\n",
       "\n",
       "    .dataframe tbody tr th {\n",
       "        vertical-align: top;\n",
       "    }\n",
       "\n",
       "    .dataframe thead th {\n",
       "        text-align: right;\n",
       "    }\n",
       "</style>\n",
       "<table border=\"1\" class=\"dataframe\">\n",
       "  <thead>\n",
       "    <tr style=\"text-align: right;\">\n",
       "      <th></th>\n",
       "      <th>CustomerID</th>\n",
       "      <th>Recency</th>\n",
       "      <th>Frequency</th>\n",
       "      <th>Monetary</th>\n",
       "      <th>R</th>\n",
       "      <th>F</th>\n",
       "      <th>M</th>\n",
       "      <th>RFMGroup</th>\n",
       "      <th>RFMScore</th>\n",
       "      <th>LoyalityLevel</th>\n",
       "    </tr>\n",
       "  </thead>\n",
       "  <tbody>\n",
       "    <tr>\n",
       "      <th>2190</th>\n",
       "      <td>15372.0</td>\n",
       "      <td>136</td>\n",
       "      <td>27</td>\n",
       "      <td>2007.40</td>\n",
       "      <td>4</td>\n",
       "      <td>3</td>\n",
       "      <td>1</td>\n",
       "      <td>431</td>\n",
       "      <td>8</td>\n",
       "      <td>Gold</td>\n",
       "    </tr>\n",
       "    <tr>\n",
       "      <th>2614</th>\n",
       "      <td>15958.0</td>\n",
       "      <td>73</td>\n",
       "      <td>7</td>\n",
       "      <td>104.35</td>\n",
       "      <td>3</td>\n",
       "      <td>4</td>\n",
       "      <td>4</td>\n",
       "      <td>344</td>\n",
       "      <td>11</td>\n",
       "      <td>Bronze</td>\n",
       "    </tr>\n",
       "    <tr>\n",
       "      <th>3363</th>\n",
       "      <td>17006.0</td>\n",
       "      <td>4</td>\n",
       "      <td>44</td>\n",
       "      <td>781.78</td>\n",
       "      <td>1</td>\n",
       "      <td>2</td>\n",
       "      <td>2</td>\n",
       "      <td>122</td>\n",
       "      <td>5</td>\n",
       "      <td>Platinum</td>\n",
       "    </tr>\n",
       "    <tr>\n",
       "      <th>3131</th>\n",
       "      <td>16684.0</td>\n",
       "      <td>3</td>\n",
       "      <td>277</td>\n",
       "      <td>66653.56</td>\n",
       "      <td>1</td>\n",
       "      <td>1</td>\n",
       "      <td>1</td>\n",
       "      <td>111</td>\n",
       "      <td>3</td>\n",
       "      <td>Platinum</td>\n",
       "    </tr>\n",
       "    <tr>\n",
       "      <th>511</th>\n",
       "      <td>13027.0</td>\n",
       "      <td>113</td>\n",
       "      <td>26</td>\n",
       "      <td>6912.00</td>\n",
       "      <td>3</td>\n",
       "      <td>3</td>\n",
       "      <td>1</td>\n",
       "      <td>331</td>\n",
       "      <td>7</td>\n",
       "      <td>Gold</td>\n",
       "    </tr>\n",
       "  </tbody>\n",
       "</table>\n",
       "</div>"
      ],
      "text/plain": [
       "     CustomerID  Recency  Frequency  Monetary  R  F  M RFMGroup  RFMScore  \\\n",
       "2190    15372.0      136         27   2007.40  4  3  1      431         8   \n",
       "2614    15958.0       73          7    104.35  3  4  4      344        11   \n",
       "3363    17006.0        4         44    781.78  1  2  2      122         5   \n",
       "3131    16684.0        3        277  66653.56  1  1  1      111         3   \n",
       "511     13027.0      113         26   6912.00  3  3  1      331         7   \n",
       "\n",
       "     LoyalityLevel  \n",
       "2190          Gold  \n",
       "2614        Bronze  \n",
       "3363      Platinum  \n",
       "3131      Platinum  \n",
       "511           Gold  "
      ]
     },
     "execution_count": 577,
     "metadata": {},
     "output_type": "execute_result"
    }
   ],
   "source": [
    "rfm_scores.sample(5)"
   ]
  },
  {
   "cell_type": "code",
   "execution_count": 578,
   "id": "f8e32769",
   "metadata": {},
   "outputs": [],
   "source": [
    "# join the loyality level to the dataset\n",
    "df_clean = df_clean.merge(rfm_scores[['CustomerID', 'LoyalityLevel']], on='CustomerID')"
   ]
  },
  {
   "cell_type": "markdown",
   "id": "93d06fcf",
   "metadata": {},
   "source": [
    "### KPIs\n",
    "\n",
    "Find out:\n",
    "* Revenue per loyality level\n",
    "* Average price level\n",
    "* Count of customers\n",
    "* Amount of products ordered\n",
    "* Count of single products ordered\n",
    "* Sum of purchases"
   ]
  },
  {
   "cell_type": "code",
   "execution_count": 579,
   "id": "0042a05d",
   "metadata": {},
   "outputs": [
    {
     "data": {
      "text/html": [
       "<div>\n",
       "<style scoped>\n",
       "    .dataframe tbody tr th:only-of-type {\n",
       "        vertical-align: middle;\n",
       "    }\n",
       "\n",
       "    .dataframe tbody tr th {\n",
       "        vertical-align: top;\n",
       "    }\n",
       "\n",
       "    .dataframe thead th {\n",
       "        text-align: right;\n",
       "    }\n",
       "</style>\n",
       "<table border=\"1\" class=\"dataframe\">\n",
       "  <thead>\n",
       "    <tr style=\"text-align: right;\">\n",
       "      <th></th>\n",
       "      <th>LoyalityLevel</th>\n",
       "      <th>Revenue</th>\n",
       "      <th>PriceLevel</th>\n",
       "      <th>CustomerID</th>\n",
       "      <th>Quantity</th>\n",
       "      <th>Description</th>\n",
       "      <th>InvoiceNo</th>\n",
       "    </tr>\n",
       "  </thead>\n",
       "  <tbody>\n",
       "    <tr>\n",
       "      <th>0</th>\n",
       "      <td>Platinum</td>\n",
       "      <td>7720118.86</td>\n",
       "      <td>55.804931</td>\n",
       "      <td>1254</td>\n",
       "      <td>4074814</td>\n",
       "      <td>3917</td>\n",
       "      <td>12951</td>\n",
       "    </tr>\n",
       "    <tr>\n",
       "      <th>1</th>\n",
       "      <td>Gold</td>\n",
       "      <td>1306260.04</td>\n",
       "      <td>44.789498</td>\n",
       "      <td>1306</td>\n",
       "      <td>808287</td>\n",
       "      <td>3398</td>\n",
       "      <td>3680</td>\n",
       "    </tr>\n",
       "    <tr>\n",
       "      <th>2</th>\n",
       "      <td>Silver</td>\n",
       "      <td>435249.80</td>\n",
       "      <td>45.483617</td>\n",
       "      <td>952</td>\n",
       "      <td>273430</td>\n",
       "      <td>2889</td>\n",
       "      <td>1508</td>\n",
       "    </tr>\n",
       "    <tr>\n",
       "      <th>3</th>\n",
       "      <td>Bronze</td>\n",
       "      <td>147532.34</td>\n",
       "      <td>46.904080</td>\n",
       "      <td>758</td>\n",
       "      <td>89542</td>\n",
       "      <td>2249</td>\n",
       "      <td>907</td>\n",
       "    </tr>\n",
       "  </tbody>\n",
       "</table>\n",
       "</div>"
      ],
      "text/plain": [
       "  LoyalityLevel     Revenue  PriceLevel  CustomerID  Quantity  Description  \\\n",
       "0      Platinum  7720118.86   55.804931        1254   4074814         3917   \n",
       "1          Gold  1306260.04   44.789498        1306    808287         3398   \n",
       "2        Silver   435249.80   45.483617         952    273430         2889   \n",
       "3        Bronze   147532.34   46.904080         758     89542         2249   \n",
       "\n",
       "   InvoiceNo  \n",
       "0      12951  \n",
       "1       3680  \n",
       "2       1508  \n",
       "3        907  "
      ]
     },
     "execution_count": 579,
     "metadata": {},
     "output_type": "execute_result"
    }
   ],
   "source": [
    "# find out the KPIs\n",
    "per_level = df_clean.groupby('LoyalityLevel').agg({'Revenue': 'sum', 'PriceLevel': 'mean', 'CustomerID': 'nunique', 'Quantity': 'sum', 'Description':'nunique', 'InvoiceNo':'nunique'}).reset_index()\n",
    "per_level"
   ]
  },
  {
   "cell_type": "code",
   "execution_count": 580,
   "id": "1393ee16",
   "metadata": {},
   "outputs": [
    {
     "data": {
      "image/png": "[encoded data removed]",
      "text/plain": [
       "<Figure size 1296x360 with 3 Axes>"
      ]
     },
     "metadata": {
      "needs_background": "light"
     },
     "output_type": "display_data"
    }
   ],
   "source": [
    "# set the size of the visualizations\n",
    "plt.rcParams['figure.figsize'] = 18, 5\n",
    "# plot the count of customers, count of purchases, and amount of revenue per loyality level\n",
    "plt.subplot(1, 3, 1)\n",
    "g = sns.barplot(data=per_level, x='LoyalityLevel', y='CustomerID', color='cornflowerblue')\n",
    "g.set_title('Number of Customers by Loyality Level')\n",
    "g.set_ylabel('Customer Count')\n",
    "g.set_xlabel('Loyality Level')\n",
    "g;\n",
    "plt.subplot(1, 3, 2)\n",
    "g = sns.barplot(data=per_level, x='LoyalityLevel', y='InvoiceNo', color='cornflowerblue')\n",
    "g.set_title('Number of Purchases by Loyality Level')\n",
    "g.set_ylabel('Purchase Count')\n",
    "g.set_xlabel('Loyality Level')\n",
    "g;\n",
    "plt.subplot(1, 3, 3)\n",
    "g = sns.barplot(data=per_level, x='LoyalityLevel', y='Revenue', color='cornflowerblue')\n",
    "g.set_title('Amount of Revenue by Loyality Level')\n",
    "g.set_ylabel('Revenue in Million')\n",
    "g.set_xlabel('Loyality Level')\n",
    "g;"
   ]
  },
  {
   "cell_type": "markdown",
   "id": "28e82152",
   "metadata": {},
   "source": [
    "### Conclusion\n",
    "\n",
    "* Platinum customers create the highest amount of purchases and revenue\n",
    "* There are more gold customers than platinum customers\n",
    "* There're less than 800 bronze customers\n",
    "* There're 50% more platinum and gold users than bronze users\n",
    "* Platinum customers buy products at a higher price level"
   ]
  },
  {
   "cell_type": "markdown",
   "id": "e14e8c13",
   "metadata": {},
   "source": [
    "## Pareto Principle\n",
    "\n",
    "### Definition \n",
    "![](https://upload.wikimedia.org/wikipedia/commons/e/eb/Pareto_principle.png)\n",
    "\n",
    "Vilfredo Pareto described once the 80-20 phenomenon. 80% of outcomes are due to 20% of causes. As example: 20% of people own 80% of all money."
   ]
  },
  {
   "cell_type": "markdown",
   "id": "6fad7a28",
   "metadata": {},
   "source": [
    "### Products that make 80% of Revenue"
   ]
  },
  {
   "cell_type": "code",
   "execution_count": 581,
   "id": "5cea60b6",
   "metadata": {},
   "outputs": [],
   "source": [
    "# defining a function\n",
    "def pareto_calculation(column):\n",
    "    pareto = df_clean[['Revenue', column]].groupby(column).sum()\n",
    "    pareto = pareto.sort_values('Revenue', ascending=False)\n",
    "    pareto['PercRev'] = round((pareto['Revenue'].cumsum()/pareto['Revenue'].sum())*100, 2)\n",
    "    pareto_80_perc_rev = pareto[pareto['PercRev']<=80]\n",
    "    return round(len(pareto_80_perc_rev)/len(pareto)*100, 2)"
   ]
  },
  {
   "cell_type": "code",
   "execution_count": 582,
   "id": "4cfad06e",
   "metadata": {},
   "outputs": [
    {
     "name": "stdout",
     "output_type": "stream",
     "text": [
      "21.81 of products make 80% of revenue\n",
      "23.02 of customers make 80% of revenue\n"
     ]
    }
   ],
   "source": [
    "# find out how many products make 80% of revenue\n",
    "products_80_20 = pareto_calculation('Description')\n",
    "print(f'{products_80_20} of products make 80% of revenue')\n",
    "\n",
    "# find out how many customers make 80% of revenue\n",
    "cust_80_20 = pareto_calculation('CustomerID')\n",
    "print(f'{cust_80_20} of customers make 80% of revenue')"
   ]
  },
  {
   "cell_type": "markdown",
   "id": "4c62cf42",
   "metadata": {},
   "source": [
    "### Conclusion\n",
    "\n",
    "* In this case, we proof the pareto principle\n",
    "* 21.81% of the products create 80% of revenue\n",
    "* 23.02% of the customers ceate 80% of revenue"
   ]
  },
  {
   "cell_type": "markdown",
   "id": "47ce0937",
   "metadata": {},
   "source": [
    "# Part 5 Statistical Hypotheses\n",
    "\n",
    "## Does it make sense to lean the product range?\n",
    "\n",
    "### Calculation"
   ]
  },
  {
   "cell_type": "code",
   "execution_count": 583,
   "id": "e25fe49b",
   "metadata": {},
   "outputs": [
    {
     "data": {
      "text/html": [
       "<div>\n",
       "<style scoped>\n",
       "    .dataframe tbody tr th:only-of-type {\n",
       "        vertical-align: middle;\n",
       "    }\n",
       "\n",
       "    .dataframe tbody tr th {\n",
       "        vertical-align: top;\n",
       "    }\n",
       "\n",
       "    .dataframe thead th {\n",
       "        text-align: right;\n",
       "    }\n",
       "</style>\n",
       "<table border=\"1\" class=\"dataframe\">\n",
       "  <thead>\n",
       "    <tr style=\"text-align: right;\">\n",
       "      <th></th>\n",
       "      <th>ABC Description</th>\n",
       "      <th>Revenue</th>\n",
       "      <th>Quantity</th>\n",
       "      <th>CustomerID</th>\n",
       "      <th>PriceLevel</th>\n",
       "      <th>Description</th>\n",
       "    </tr>\n",
       "  </thead>\n",
       "  <tbody>\n",
       "    <tr>\n",
       "      <th>0</th>\n",
       "      <td>A</td>\n",
       "      <td>6630201.24</td>\n",
       "      <td>2896362</td>\n",
       "      <td>4189</td>\n",
       "      <td>50.284278</td>\n",
       "      <td>556</td>\n",
       "    </tr>\n",
       "    <tr>\n",
       "      <th>1</th>\n",
       "      <td>B</td>\n",
       "      <td>2380965.04</td>\n",
       "      <td>1770795</td>\n",
       "      <td>4050</td>\n",
       "      <td>55.432089</td>\n",
       "      <td>1285</td>\n",
       "    </tr>\n",
       "    <tr>\n",
       "      <th>2</th>\n",
       "      <td>C</td>\n",
       "      <td>597994.76</td>\n",
       "      <td>578916</td>\n",
       "      <td>3389</td>\n",
       "      <td>60.773254</td>\n",
       "      <td>2130</td>\n",
       "    </tr>\n",
       "  </tbody>\n",
       "</table>\n",
       "</div>"
      ],
      "text/plain": [
       "  ABC Description     Revenue  Quantity  CustomerID  PriceLevel  Description\n",
       "0               A  6630201.24   2896362        4189   50.284278          556\n",
       "1               B  2380965.04   1770795        4050   55.432089         1285\n",
       "2               C   597994.76    578916        3389   60.773254         2130"
      ]
     },
     "execution_count": 583,
     "metadata": {},
     "output_type": "execute_result"
    }
   ],
   "source": [
    "# split the dataset in c products and a&b products\n",
    "abc_prod = df_clean.groupby('ABC Description').agg({'Revenue':'sum',\n",
    "                                                   'Quantity':'sum',\n",
    "                                                   'CustomerID':'nunique',\n",
    "                                                   'PriceLevel':'mean',\n",
    "                                                   'Description':'nunique'}).reset_index()\n",
    "abc_prod"
   ]
  },
  {
   "cell_type": "code",
   "execution_count": 584,
   "id": "2f2635f6",
   "metadata": {},
   "outputs": [
    {
     "name": "stdout",
     "output_type": "stream",
     "text": [
      "C products make 6.22% of the revenue\n",
      "C products take 53.64% of the stores capacity\n"
     ]
    }
   ],
   "source": [
    "# find out how much percent of revenue\n",
    "c_rev_percent = round((abc_prod.iloc[2]['Revenue']/abc_prod['Revenue'].sum())*100, 2)\n",
    "print(f'C products make {c_rev_percent}% of the revenue')\n",
    "\n",
    "# find out how many capacities the C products take\n",
    "c_cap_percent = round((abc_prod.iloc[2]['Description']/abc_prod['Description'].sum())*100, 2)\n",
    "print(f'C products take {c_cap_percent}% of the stores capacity')"
   ]
  },
  {
   "cell_type": "markdown",
   "id": "5de3edb6",
   "metadata": {},
   "source": [
    "### Result\n",
    "\n",
    "* The store would save half of the space and storage costs if the C products were sorted out"
   ]
  },
  {
   "cell_type": "markdown",
   "id": "4992d334",
   "metadata": {},
   "source": [
    "## How can we use specific seasons to increase the output?\n",
    "\n",
    "### Find out when the sales are at the highest"
   ]
  },
  {
   "cell_type": "code",
   "execution_count": 585,
   "id": "9e10425a",
   "metadata": {},
   "outputs": [
    {
     "data": {
      "image/png": "[encoded data removed]",
      "text/plain": [
       "<Figure size 1296x360 with 1 Axes>"
      ]
     },
     "metadata": {
      "needs_background": "light"
     },
     "output_type": "display_data"
    }
   ],
   "source": [
    "# find out the sales per month\n",
    "sales_per_day = df_clean[['Month', 'InvoiceNo']].groupby('Month').count().reset_index()\n",
    "g = sns.barplot(data=sales_per_day, x='Month', y='InvoiceNo', color='cornflowerblue')\n",
    "g.set_title('Purchases per Month')\n",
    "g.set_ylabel('Count of Purchases per Month')\n",
    "g.set_xlabel('Months')\n",
    "g;"
   ]
  },
  {
   "cell_type": "code",
   "execution_count": 587,
   "id": "1c6df89f",
   "metadata": {
    "scrolled": true
   },
   "outputs": [
    {
     "data": {
      "image/png": "[encoded data removed]",
      "text/plain": [
       "<Figure size 1296x360 with 1 Axes>"
      ]
     },
     "metadata": {
      "needs_background": "light"
     },
     "output_type": "display_data"
    }
   ],
   "source": [
    "# group by months and dates to find out how many days have a high amount of sales (more than 2500 per day)\n",
    "high_sale_dates = df_clean.groupby(['Month', 'Date']).agg({'InvoiceNo':'count', 'Revenue':'sum', 'PriceLevel':'mean'}).reset_index()\n",
    "high_sale_dates = high_sale_dates[high_sale_dates['InvoiceNo']>3000]\n",
    "\n",
    "# plot the months\n",
    "g = sns.countplot(data=high_sale_dates, x='Month', color='cornflowerblue')\n",
    "g.set_title('Months with a high Amount of Sales')\n",
    "g.set_ylabel('Count of Days with more than 3000 Sales')\n",
    "g.set_xlabel('Months')\n",
    "g;"
   ]
  },
  {
   "cell_type": "code",
   "execution_count": 596,
   "id": "6271d22d",
   "metadata": {},
   "outputs": [
    {
     "data": {
      "image/png": "[encoded data removed]",
      "text/plain": [
       "<Figure size 1296x360 with 1 Axes>"
      ]
     },
     "metadata": {
      "needs_background": "light"
     },
     "output_type": "display_data"
    }
   ],
   "source": [
    "# find out the pricing during the year\n",
    "g = sns.barplot(data=df_clean, x='Month',y='PriceLevel', hue='ABC Description', errwidth=0)\n",
    "plt.grid()\n",
    "g.set_title('Average Price Level per Month')\n",
    "g.set_ylabel('Average Price Level')\n",
    "g.set_xlabel('Months')\n",
    "g;"
   ]
  },
  {
   "cell_type": "markdown",
   "id": "88ff8114",
   "metadata": {},
   "source": [
    "### Result\n",
    "\n",
    "* In April (4) the sales are so high because of the Easter holydays\n",
    "* In August (8) and September (9) the sales are so high because the summer sale\n",
    "* In October (10), November (11), and December (12) the Christmas sale drives the sales up"
   ]
  },
  {
   "cell_type": "markdown",
   "id": "64f7fdb8",
   "metadata": {},
   "source": [
    "# Part 6 Summary, Conclusion and Suggestion\n",
    "\n",
    "## What can we observe by Visualizations and Measures?\n",
    "\n",
    "* There are many outliers in this dataset\n",
    "* Almost every numerical data is right skewed (the mean is way higher than the median / 50% quantile)\n",
    "* Most of the days had between 1000 and 2000 purchases\n",
    "* End of October and in November, the amount of sales raises because of the Christmas sales\n",
    "* From February, the prices decrease and in October, the prices start to increase\n",
    "\n",
    "\n",
    "## How can we increase Profit?\n",
    "\n",
    "* We should find out if we can offer the outlier products regularly (like the wicker picnic basket, storage jar, or the paper craft)\n",
    "* Don't decrease the price below 42% of the maximum price\n",
    "* Start newsletter and special offers for platinum and gold customers\n",
    "* 20% of the customer make 80% of the revenue. We should ask them what we can do for them\n",
    "\n",
    "\n",
    "## How can we save Storage Space?\n",
    "\n",
    "* Sort out the C products, they use more than 50% of the storage space but only generate 6% of the revenue\n",
    "\n",
    "\n",
    "## Based on past Sales, what are our Expectations for the Future?\n",
    "\n",
    "* By sort out products with extreme low sales, we can save:\n",
    "    * Storage costs\n",
    "    * Personnel costs\n",
    "    * Shipping costs\n",
    "\n",
    "\n",
    "## Other Suggestions?\n",
    "\n",
    "* Categorizing the products or a systematical description that makes categorizing easier for a data analyst"
   ]
  },
  {
   "cell_type": "code",
   "execution_count": null,
   "id": "a6927944",
   "metadata": {},
   "outputs": [],
   "source": []
  }
 ],
 "metadata": {
  "kernelspec": {
   "display_name": "Python 3 (ipykernel)",
   "language": "python",
   "name": "python3"
  },
  "language_info": {
   "codemirror_mode": {
    "name": "ipython",
    "version": 3
   },
   "file_extension": ".py",
   "mimetype": "text/x-python",
   "name": "python",
   "nbconvert_exporter": "python",
   "pygments_lexer": "ipython3",
   "version": "3.9.7"
  },
  "toc": {
   "base_numbering": 1,
   "nav_menu": {},
   "number_sections": true,
   "sideBar": true,
   "skip_h1_title": false,
   "title_cell": "Table of Contents",
   "title_sidebar": "Contents",
   "toc_cell": false,
   "toc_position": {},
   "toc_section_display": true,
   "toc_window_display": false
  },
  "varInspector": {
   "cols": {
    "lenName": 16,
    "lenType": 16,
    "lenVar": 40
   },
   "kernels_config": {
    "python": {
     "delete_cmd_postfix": "",
     "delete_cmd_prefix": "del ",
     "library": "var_list.py",
     "varRefreshCmd": "print(var_dic_list())"
    },
    "r": {
     "delete_cmd_postfix": ") ",
     "delete_cmd_prefix": "rm(",
     "library": "var_list.r",
     "varRefreshCmd": "cat(var_dic_list()) "
    }
   },
   "types_to_exclude": [
    "module",
    "function",
    "builtin_function_or_method",
    "instance",
    "_Feature"
   ],
   "window_display": false
  }
 },
 "nbformat": 4,
 "nbformat_minor": 5
}
